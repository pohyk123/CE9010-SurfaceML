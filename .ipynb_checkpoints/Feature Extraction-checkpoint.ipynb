{
 "cells": [
  {
   "cell_type": "markdown",
   "metadata": {},
   "source": [
    "# Feature Extraction\n",
    "We did literature review on a few papers related to the usage of IMU sensor on detecting surface bumps or textures, such as roads:\n",
    "- [Sattar, Shahram & Li, Songnian & Chapman, Michael. (2018). Road Surface Monitoring Using Smartphone Sensors:A Review. Sensors. 18. 3845. 10.3390/s18113845.](https://www.ncbi.nlm.nih.gov/pmc/articles/PMC6263868/pdf/sensors-18-03845.pdf)\n",
    "- [Wen, Wan. (2008). Road Roughness Detection by Analysing IMU Data.](http://www.diva-portal.org/smash/get/diva2:1064977/FULLTEXT01.pdf)\n",
    "- [Ld, Nhac & Nguyen, Nhan & Nguyen, Thi-Hau & Nguyen, Ha-Nam. (2018). Vehicle Mode and Driving Activity Detection Based on Analyzing Sensor Data of Smartphones. Sensors. 18. 1036. 10.3390/s18041036.](https://www.ncbi.nlm.nih.gov/pmc/articles/PMC5948751/pdf/sensors-18-01036.pdf)\n",
    "\n",
    "Popular and useful (tested) features include:\n",
    "\n",
    "**Time domain**\n",
    "- Mean\n",
    "- Standard Deviation\n",
    "- Skewness\n",
    "- Kurtosis\n",
    "\n",
    "**Frequency domain**\n",
    "- Power Spectral Density (PSD)\n",
    "\n",
    "Each of the above features are taken with respect to a single series, that is, 128 data points from our dataset. At the end of this script, we would like to store our engineered features into a python dictionary for readability. For the (later) training stage, we unpack into a numpy matrix for efficient vectorised implementation and training.\n",
    "\n",
    "For PSD, we split the range of frequencies into 5 equal bands, hence creating 5 features for PSD.\n",
    "\n",
    "**Terminology**\n",
    "\n",
    "- Sample - a single data point\n",
    "- Series - 128 sample points"
   ]
  },
  {
   "cell_type": "code",
   "execution_count": 1,
   "metadata": {},
   "outputs": [
    {
     "name": "stdout",
     "output_type": "stream",
     "text": [
      "Requirement already satisfied: tabulate in c:\\users\\admin\\miniconda3\\lib\\site-packages (0.8.3)\n"
     ]
    }
   ],
   "source": [
    "# Install necessary packages\n",
    "# windows command\n",
    "!py -m pip install tabulate \n",
    "# pls use below for Unix OSes (Mac, Linux distros)\n",
    "# !pip install tabulate"
   ]
  },
  {
   "cell_type": "code",
   "execution_count": 2,
   "metadata": {},
   "outputs": [],
   "source": [
    "# import libraries\n",
    "import pandas as pd\n",
    "import numpy as np\n",
    "from scipy.signal import welch\n",
    "from tabulate import tabulate\n",
    "import matplotlib.pyplot as plt\n",
    "\n",
    "# location of files\n",
    "data_file = './data/X_train.csv'\n",
    "label_file = './data/y_train.csv'"
   ]
  },
  {
   "cell_type": "code",
   "execution_count": 3,
   "metadata": {},
   "outputs": [],
   "source": [
    "# import data & labels\n",
    "df_X_train = pd.read_csv('./data/X_train.csv')\n",
    "df_y_train = pd.read_csv('./data/y_train.csv')"
   ]
  },
  {
   "cell_type": "markdown",
   "metadata": {},
   "source": [
    "As from our (previous) EDA, orientation values are presented in quaternion form. This is not an intuitive way of representing the orientation of the robot. Hence we convert quaternion values to euler angles. We also remove the original quaternion values. Euler angles are made up of roll, pitch and yaw.\n",
    "\n",
    "<center>\n",
    "    <img src='./img/euler.png' width=\"600\" height=\"400\">\n",
    "    Figure 1: Illustration of row, pitch and yaw angles.\n",
    "</center>"
   ]
  },
  {
   "cell_type": "code",
   "execution_count": 4,
   "metadata": {},
   "outputs": [
    {
     "name": "stdout",
     "output_type": "stream",
     "text": [
      "Shape of euler_angles: (487680, 3)\n",
      "Angles below are in radians.\n",
      "+---------+------------+---------+\n",
      "|     Row |      Pitch |     Yaw |\n",
      "|---------+------------+---------|\n",
      "| 2.84327 | -0.0246676 | 1.39666 |\n",
      "|  2.8432 |  -0.024662 | 1.39665 |\n",
      "| 2.84322 | -0.0247283 | 1.39668 |\n",
      "| 2.84319 | -0.0247696 | 1.39672 |\n",
      "| 2.84319 | -0.0247844 | 1.39669 |\n",
      "+---------+------------+---------+\n"
     ]
    }
   ],
   "source": [
    "def quaternion_to_euler(x, y, z, w):\n",
    "    import math\n",
    "    t0 = +2.0 * (w * x + y * z)\n",
    "    t1 = +1.0 - 2.0 * (x * x + y * y)\n",
    "    X = math.atan2(t0, t1)\n",
    "\n",
    "    t2 = +2.0 * (w * y - z * x)\n",
    "    t2 = +1.0 if t2 > +1.0 else t2\n",
    "    t2 = -1.0 if t2 < -1.0 else t2\n",
    "    Y = math.asin(t2)\n",
    "\n",
    "    t3 = +2.0 * (w * z + x * y)\n",
    "    t4 = +1.0 - 2.0 * (y * y + z * z)\n",
    "    Z = math.atan2(t3, t4)\n",
    "\n",
    "    return X, Y, Z\n",
    "\n",
    "quat = df_X_train.iloc[:,3:7].values\n",
    "euler_angles = np.zeros([quat.shape[0],3])\n",
    "for i in range(quat.shape[0]):\n",
    "    euler_angles[i,:] = quaternion_to_euler(quat[i,0],quat[i,1],quat[i,2],quat[i,3])\n",
    "print(\"Shape of euler_angles:\",euler_angles.shape)\n",
    "print('Angles below are in radians.')\n",
    "print(tabulate(euler_angles[0:5],headers=['Row','Pitch','Yaw'],tablefmt='psql',numalign='right'))"
   ]
  },
  {
   "cell_type": "code",
   "execution_count": 5,
   "metadata": {},
   "outputs": [
    {
     "name": "stdout",
     "output_type": "stream",
     "text": [
      "Total # of training series (128 data points ea): 3810\n",
      "modified_data shape: (3810, 128, 9)\n",
      "First 5 samples:\n",
      "+----------------------+----------------------+----------------------+\n",
      "|   angular_velocity_X |   angular_velocity_Y |   angular_velocity_Z |\n",
      "|----------------------+----------------------+----------------------|\n",
      "|              0.10765 |             0.017561 |           0.00076741 |\n",
      "|             0.067851 |             0.029939 |            0.0033855 |\n",
      "|            0.0072747 |             0.028934 |           -0.0059783 |\n",
      "|            -0.013053 |             0.019448 |           -0.0089735 |\n",
      "|            0.0051349 |            0.0076517 |            0.0052452 |\n",
      "+----------------------+----------------------+----------------------+\n",
      "+-------------------------+-------------------------+-------------------------+\n",
      "|   linear_acceleration_X |   linear_acceleration_Y |   linear_acceleration_Z |\n",
      "|-------------------------+-------------------------+-------------------------|\n",
      "|                -0.74857 |                   2.103 |                 -9.7532 |\n",
      "|                 0.33995 |                  1.5064 |                 -9.4128 |\n",
      "|                -0.26429 |                  1.5922 |                 -8.7267 |\n",
      "|                 0.42684 |                  1.0993 |                 -10.096 |\n",
      "|                -0.50969 |                  1.4689 |                 -10.441 |\n",
      "+-------------------------+-------------------------+-------------------------+\n",
      "+---------+------------+---------+\n",
      "|     Row |      Pitch |     Yaw |\n",
      "|---------+------------+---------|\n",
      "| 2.84327 | -0.0246676 | 1.39666 |\n",
      "|  2.8432 |  -0.024662 | 1.39665 |\n",
      "| 2.84322 | -0.0247283 | 1.39668 |\n",
      "| 2.84319 | -0.0247696 | 1.39672 |\n",
      "| 2.84319 | -0.0247844 | 1.39669 |\n",
      "+---------+------------+---------+\n"
     ]
    }
   ],
   "source": [
    "m = df_y_train.shape[0]\n",
    "\n",
    "df_X_train_pruned = df_X_train.iloc[:,7:13]\n",
    "preserved_keys = list(df_X_train_pruned.keys())\n",
    "print('Total # of training series (128 data points ea):',df_y_train.shape[0])\n",
    "\n",
    "# combine euler angles with remaining columns & reshape array into [series_id][time_steps][(old)feature]\n",
    "modified_data = np.hstack((df_X_train_pruned.values,euler_angles)).reshape([m,128,-1])\n",
    "new_keys = list(df_X_train_pruned.keys())+(['Row','Pitch','Yaw'])\n",
    "print('modified_data shape:',modified_data.shape)\n",
    "print('First 5 samples:')\n",
    "print(tabulate(modified_data[0,0:5,:3],headers=new_keys[0:3],tablefmt='psql',numalign='right'))\n",
    "print(tabulate(modified_data[0,0:5,3:6],headers=new_keys[3:6],tablefmt='psql',numalign='right'))\n",
    "print(tabulate(modified_data[0,0:5,6:9],headers=new_keys[6:9],tablefmt='psql',numalign='right'))"
   ]
  },
  {
   "cell_type": "markdown",
   "metadata": {},
   "source": [
    "We will now generate hand-crafted features. Let us initialise an empty np array and group the data into a 3d array of series. While this may appear as a seemingly huge feature set, it is still much less than the raw dataset. Since we had 9 original features (Euler) and we are generating 9 new features for each old feature, this creates 81 features. We will group same type of features together (e.g. mean - columns 0:9, std dev - columns 9:18).\n",
    "\n",
    "The 9 features are mean, std dev, skewness, std dev, PSD-A (0-40Hz), PSD-B (41-80Hz), PSD-C (81-120Hz), PSD-D (121-1600Hz), PSD-E (161-200Hz)"
   ]
  },
  {
   "cell_type": "code",
   "execution_count": 6,
   "metadata": {},
   "outputs": [
    {
     "name": "stdout",
     "output_type": "stream",
     "text": [
      "Features matrix shape: (3810, 81)\n"
     ]
    }
   ],
   "source": [
    "# generate empty feature array\n",
    "features = np.zeros([m,9*(len(preserved_keys)+3)])\n",
    "print('Features matrix shape:',features.shape)"
   ]
  },
  {
   "cell_type": "markdown",
   "metadata": {},
   "source": [
    "## Mean"
   ]
  },
  {
   "cell_type": "code",
   "execution_count": 7,
   "metadata": {},
   "outputs": [],
   "source": [
    "for i in range(m):\n",
    "    series = modified_data[i,:,:]\n",
    "    features[i,0:9] = np.mean(series,axis=0)"
   ]
  },
  {
   "cell_type": "markdown",
   "metadata": {},
   "source": [
    "## Standard Deviation"
   ]
  },
  {
   "cell_type": "code",
   "execution_count": 8,
   "metadata": {},
   "outputs": [],
   "source": [
    "for i in range(m):\n",
    "    series = modified_data[i,:,:]\n",
    "    features[i,9:18] = np.std(series,axis=0)"
   ]
  },
  {
   "cell_type": "markdown",
   "metadata": {},
   "source": [
    "## Skewness"
   ]
  },
  {
   "cell_type": "code",
   "execution_count": 9,
   "metadata": {},
   "outputs": [],
   "source": [
    "for i in range(m):\n",
    "    series = modified_data[i,:,:]\n",
    "    features[i,18:27] = np.std(series,axis=0)"
   ]
  },
  {
   "cell_type": "markdown",
   "metadata": {},
   "source": [
    "## Kurtosis"
   ]
  },
  {
   "cell_type": "code",
   "execution_count": 10,
   "metadata": {},
   "outputs": [],
   "source": [
    "for i in range(m):\n",
    "    series = modified_data[i,:,:]\n",
    "    features[i,27:36] = np.std(series,axis=0)"
   ]
  },
  {
   "cell_type": "markdown",
   "metadata": {},
   "source": [
    "## Power Spectral Density\n",
    "We decompose each original input feature into 5 total PSD band powers, yielding 9*5 = 45 PSD features."
   ]
  },
  {
   "cell_type": "code",
   "execution_count": 11,
   "metadata": {},
   "outputs": [
    {
     "name": "stdout",
     "output_type": "stream",
     "text": [
      "PSD processing @ 0...\n"
     ]
    },
    {
     "name": "stderr",
     "output_type": "stream",
     "text": [
      "C:\\Users\\Admin\\AppData\\Roaming\\Python\\Python36\\site-packages\\scipy\\signal\\spectral.py:1773: UserWarning: nperseg = 256 is greater than input length  = 128, using nperseg = 128\n",
      "  .format(nperseg, input_length))\n"
     ]
    },
    {
     "name": "stdout",
     "output_type": "stream",
     "text": [
      "PSD processing @ 500...\n",
      "PSD processing @ 1000...\n",
      "PSD processing @ 1500...\n",
      "PSD processing @ 2000...\n",
      "PSD processing @ 2500...\n",
      "PSD processing @ 3000...\n",
      "PSD processing @ 3500...\n",
      "Complete.\n"
     ]
    }
   ],
   "source": [
    "for i in range(m):\n",
    "    if(i%500==0):\n",
    "        print('PSD processing @ {}...'.format(i))\n",
    "    series = modified_data[i,:,:]\n",
    "    for col in range(series.shape[1]):\n",
    "        psd = welch(modified_data[i,:,col],fs=400)\n",
    "        psd_len = len(psd[0])\n",
    "        part = int((1/5)*psd_len)\n",
    "        features[i,36+0*9+col] = np.sum(psd[1][:part])\n",
    "        features[i,36+1*9+col] = np.sum(psd[1][part*1:part*2])\n",
    "        features[i,36+2*9+col] = np.sum(psd[1][part*2:part*3])\n",
    "        features[i,36+3*9+col] = np.sum(psd[1][part*3:part*4])\n",
    "        features[i,36+4*9+col] = np.sum(psd[1][part*4:part*5])\n",
    "print('Complete.')"
   ]
  },
  {
   "cell_type": "markdown",
   "metadata": {},
   "source": [
    "## Save new features as csv file"
   ]
  },
  {
   "cell_type": "code",
   "execution_count": 12,
   "metadata": {},
   "outputs": [
    {
     "name": "stdout",
     "output_type": "stream",
     "text": [
      "Final feature matrix shape: (3810, 81)\n"
     ]
    }
   ],
   "source": [
    "print('Final feature matrix shape:',features.shape)\n",
    "\n",
    "# save new feature matrix\n",
    "try:\n",
    "    np.savetxt('./data/feature_extraction.csv',features,delimiter=',')\n",
    "except Exception as e:\n",
    "    print('Unable to save file!',end=' ')\n",
    "    print(e)"
   ]
  },
  {
   "cell_type": "markdown",
   "metadata": {},
   "source": [
    "## Z-Scoring"
   ]
  },
  {
   "cell_type": "code",
   "execution_count": 13,
   "metadata": {},
   "outputs": [],
   "source": [
    "features -= features.mean(axis=0)\n",
    "features /= np.std(features,axis=0)"
   ]
  },
  {
   "cell_type": "markdown",
   "metadata": {},
   "source": [
    "## Co-variance matrix\n",
    "<hr>\n",
    "The $d \\times d$ co-variance matrix is defined as:\n",
    "\n",
    "$$\n",
    "\\Sigma \\ =  \\ \\frac{1}{n} \\sum_{i=1}^n x_ix_i^T \\ = \\  \\frac{1}{n} X^TX\n",
    "$$\n",
    "\n",
    "with the $n \\times d$ data matrix:\n",
    "\n",
    "$$\n",
    "X = \n",
    "\\left[ \n",
    "\\begin{array}{cccc}\n",
    "- x_1^T -\n",
    "\\\\ \n",
    " \\vdots\n",
    " \\\\\n",
    "- x_n^T -\n",
    "\\end{array} \n",
    "\\right]\n",
    "$$\n",
    "\n",
    "The data variance along j-dim is:\n",
    "$$\n",
    "\\Sigma_{jj} = \\sum_{i=1}^n x_{i(j)}^2\n",
    "$$\n",
    "\n",
    "The data co-variance along j-dim and l-dim is :\n",
    "$$\n",
    "\\Sigma_{jl} = \\sum_{i=1}^n x_{i(j)}x_{i(l)}\n",
    "$$\n",
    "\n",
    "Compute the co-variance matrix $\\Sigma$.\n"
   ]
  },
  {
   "cell_type": "code",
   "execution_count": 14,
   "metadata": {
    "scrolled": true
   },
   "outputs": [
    {
     "name": "stdout",
     "output_type": "stream",
     "text": [
      "(81, 81)\n",
      "[[ 1.          0.30920682 -0.30736803 ...  0.07114554  0.05809253\n",
      "   0.01089723]\n",
      " [ 0.30920682  1.         -0.99535906 ... -0.0044749  -0.01372733\n",
      "  -0.01209685]\n",
      " [-0.30736803 -0.99535906  1.         ...  0.00146727  0.00882577\n",
      "   0.01111407]\n",
      " ...\n",
      " [ 0.07114554 -0.0044749   0.00146727 ...  1.          0.69707511\n",
      "  -0.01066264]\n",
      " [ 0.05809253 -0.01372733  0.00882577 ...  0.69707511  1.\n",
      "  -0.01050145]\n",
      " [ 0.01089723 -0.01209685  0.01111407 ... -0.01066264 -0.01050145\n",
      "   1.        ]]\n"
     ]
    }
   ],
   "source": [
    "Sigma = features.T.dot(features) / features.shape[0]\n",
    "print(Sigma.shape)\n",
    "print(Sigma)"
   ]
  },
  {
   "cell_type": "markdown",
   "metadata": {},
   "source": [
    "## Principal directions\n",
    "<hr>\n",
    "\n",
    "The principal directions $U=[u_1,u_2]$ are given by the eigenvalue decomposition (EVD) of the co-variance matrix $\\Sigma$:\n",
    "\n",
    "$$\n",
    "\\Sigma = U S U^T\n",
    "$$\n"
   ]
  },
  {
   "cell_type": "code",
   "execution_count": 15,
   "metadata": {},
   "outputs": [],
   "source": [
    "def EVD(X):\n",
    "    s, U = np.linalg.eig(X)\n",
    "    idx = s.argsort()[::-1] # decreasing order\n",
    "    return s[idx], U[:,idx]\n",
    "\n",
    "s, U = EVD(Sigma) # s = indiv variance, U each column represents an eigenvector of the principle component unit 1\n",
    "#print(s)\n",
    "#print(U)\n"
   ]
  },
  {
   "cell_type": "markdown",
   "metadata": {},
   "source": [
    "## Main principal directions\n",
    "<hr>\n",
    "Data variations are captured by each principal direction. We will use the first k principal directions that capture e.g. 90% of total variance:\n",
    "$$\n",
    "\\frac{\\sum_{l=1}^k S_{ll}}{\\sum_{l=1}^d S_{ll}} \\geq 0.9\n",
    "$$"
   ]
  },
  {
   "cell_type": "code",
   "execution_count": 16,
   "metadata": {},
   "outputs": [
    {
     "name": "stdout",
     "output_type": "stream",
     "text": [
      "k= 15\n",
      "captured variance= (0.9107600425164497-6.929619903343487e-35j)\n"
     ]
    },
    {
     "name": "stderr",
     "output_type": "stream",
     "text": [
      "C:\\Users\\Admin\\AppData\\Roaming\\Python\\Python36\\site-packages\\numpy\\core\\numeric.py:501: ComplexWarning: Casting complex values to real discards the imaginary part\n",
      "  return array(a, dtype, copy=False, order=order)\n",
      "C:\\Users\\Admin\\AppData\\Roaming\\Python\\Python36\\site-packages\\matplotlib\\text.py:1787: ComplexWarning: Casting complex values to real discards the imaginary part\n",
      "  y = float(self.convert_yunits(y))\n"
     ]
    },
    {
     "data": {
      "image/png": "[encoded data removed]",
      "text/plain": [
       "<Figure size 432x288 with 1 Axes>"
      ]
     },
     "metadata": {
      "needs_background": "light"
     },
     "output_type": "display_data"
    }
   ],
   "source": [
    "k = 0\n",
    "var = 0\n",
    "var_recorded_each_k = []\n",
    "k_list = []\n",
    "def select(k,s,var,var_recorded_each_k):\n",
    "    tot_var = np.sum(s)\n",
    "    while var < .9:\n",
    "        k += 1\n",
    "        var = np.sum(s[:k])/ tot_var \n",
    "    return k,var\n",
    "\n",
    "def capturedvariance(k_list,s,var_recorded_each_k, var = 0):\n",
    "    while var < .9999:\n",
    "        k_list.append(len(k_list)+1)\n",
    "        var = np.sum(s[:len(k_list)]/np.sum(s))\n",
    "        var_recorded_each_k.append(var)\n",
    "    ax = plt.plot(k_list, var_recorded_each_k)\n",
    "    plt.title('Captured Variance with increasing k')\n",
    "    plt.xlabel('k')\n",
    "    plt.ylabel('variance captured')\n",
    "    plt.plot(k_list[14],var_recorded_each_k[14],'+')\n",
    "    plt.annotate('({} , {:.3f})'.format(k_list[14],np.abs(var_recorded_each_k[14])),xy=(k_list[14],var_recorded_each_k[14]), xytext=(10,-10), textcoords='offset points')\n",
    "    plt.show()\n",
    "\n",
    "k,var = select(k,s,var,var_recorded_each_k)\n",
    "print('k=',k)\n",
    "print('captured variance=',var)\n",
    "capturedvariance(k_list,s,var_recorded_each_k)"
   ]
  },
  {
   "cell_type": "markdown",
   "metadata": {},
   "source": [
    "## Save PCA features"
   ]
  },
  {
   "cell_type": "code",
   "execution_count": 21,
   "metadata": {},
   "outputs": [
    {
     "name": "stdout",
     "output_type": "stream",
     "text": [
      "PCA features shape: (3810, 15)\n"
     ]
    }
   ],
   "source": [
    "# pca_label = [i for i in range(15)]\n",
    "# for i in range(15):\n",
    "#     pca_label[i] ='principal component vector ' + str(i)\n",
    "PCA_features = np.abs(features.dot(U[:,:15]))\n",
    "\n",
    "print('PCA features shape:',PCA_features.shape)\n",
    "# pca_label.append(PCA_features)\n",
    "# save new feature matrix\n",
    "try:\n",
    "    np.savetxt('./data/PCA_features.csv',PCA_features,delimiter=',')\n",
    "except Exception as e:\n",
    "    print('Unable to save file!',end=' ')\n",
    "    print(e)"
   ]
  },
  {
   "cell_type": "code",
   "execution_count": null,
   "metadata": {},
   "outputs": [],
   "source": []
  }
 ],
 "metadata": {
  "kernelspec": {
   "display_name": "Python 3",
   "language": "python",
   "name": "python3"
  },
  "language_info": {
   "codemirror_mode": {
    "name": "ipython",
    "version": 3
   },
   "file_extension": ".py",
   "mimetype": "text/x-python",
   "name": "python",
   "nbconvert_exporter": "python",
   "pygments_lexer": "ipython3",
   "version": "3.6.8"
  }
 },
 "nbformat": 4,
 "nbformat_minor": 2
}
