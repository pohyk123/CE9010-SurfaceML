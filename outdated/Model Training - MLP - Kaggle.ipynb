{
 "cells": [
  {
   "cell_type": "markdown",
   "metadata": {},
   "source": [
    "# Shallow Neural Network (Multi-Layer Perceptron)"
   ]
  },
  {
   "cell_type": "code",
   "execution_count": 1,
   "metadata": {},
   "outputs": [
    {
     "name": "stdout",
     "output_type": "stream",
     "text": [
      "Requirement already satisfied: keras in c:\\users\\pohyk\\appdata\\local\\programs\\python\\python36\\lib\\site-packages\n",
      "Requirement already satisfied: six>=1.9.0 in c:\\users\\pohyk\\appdata\\local\\programs\\python\\python36\\lib\\site-packages (from keras)\n",
      "Requirement already satisfied: keras-applications>=1.0.6 in c:\\users\\pohyk\\appdata\\local\\programs\\python\\python36\\lib\\site-packages (from keras)\n",
      "Requirement already satisfied: keras-preprocessing>=1.0.5 in c:\\users\\pohyk\\appdata\\local\\programs\\python\\python36\\lib\\site-packages (from keras)\n",
      "Requirement already satisfied: pyyaml in c:\\users\\pohyk\\appdata\\local\\programs\\python\\python36\\lib\\site-packages (from keras)\n",
      "Requirement already satisfied: scipy>=0.14 in c:\\users\\pohyk\\appdata\\local\\programs\\python\\python36\\lib\\site-packages (from keras)\n",
      "Requirement already satisfied: h5py in c:\\users\\pohyk\\appdata\\local\\programs\\python\\python36\\lib\\site-packages (from keras)\n",
      "Requirement already satisfied: numpy>=1.9.1 in c:\\users\\pohyk\\appdata\\local\\programs\\python\\python36\\lib\\site-packages (from keras)\n"
     ]
    },
    {
     "name": "stderr",
     "output_type": "stream",
     "text": [
      "You are using pip version 9.0.1, however version 19.0.3 is available.\n",
      "You should consider upgrading via the 'python -m pip install --upgrade pip' command.\n"
     ]
    }
   ],
   "source": [
    "# You need keras for this notebook.\n",
    "# for windows OS\n",
    "!py -m pip install keras\n",
    "# for unix OS\n",
    "#!pip install keras"
   ]
  },
  {
   "cell_type": "code",
   "execution_count": 59,
   "metadata": {},
   "outputs": [
    {
     "data": {
      "text/html": [
       "        <script type=\"text/javascript\">\n",
       "        window.PlotlyConfig = {MathJaxConfig: 'local'};\n",
       "        if (window.MathJax) {MathJax.Hub.Config({SVG: {font: \"STIX-Web\"}});}\n",
       "        if (typeof require !== 'undefined') {\n",
       "        require.undef(\"plotly\");\n",
       "        requirejs.config({\n",
       "            paths: {\n",
       "                'plotly': ['https://cdn.plot.ly/plotly-latest.min']\n",
       "            }\n",
       "        });\n",
       "        require(['plotly'], function(Plotly) {\n",
       "            window._Plotly = Plotly;\n",
       "        });\n",
       "        }\n",
       "        </script>\n",
       "        "
      ]
     },
     "metadata": {},
     "output_type": "display_data"
    }
   ],
   "source": [
    "from keras.models import Sequential, load_model\n",
    "from keras.layers import Dense, Input, Dropout\n",
    "from sklearn.preprocessing import LabelEncoder, StandardScaler\n",
    "from sklearn.model_selection import train_test_split, StratifiedKFold\n",
    "from plotly.offline import download_plotlyjs, init_notebook_mode, plot, iplot\n",
    "import plotly.graph_objs as go\n",
    "import matplotlib.pyplot as plt\n",
    "import keras\n",
    "import pickle\n",
    "import numpy as np\n",
    "import pandas as pd\n",
    "\n",
    "init_notebook_mode(connected=True)\n",
    "np.random.seed(42)"
   ]
  },
  {
   "cell_type": "markdown",
   "metadata": {},
   "source": [
    "## Import data sources\n",
    "We import crafted features from previous preprocessing steps."
   ]
  },
  {
   "cell_type": "code",
   "execution_count": 60,
   "metadata": {},
   "outputs": [
    {
     "name": "stdout",
     "output_type": "stream",
     "text": [
      "X shape: (3810, 81) <class 'numpy.ndarray'>\n",
      "y shape: (3810, 3) <class 'numpy.ndarray'>\n"
     ]
    }
   ],
   "source": [
    "# import data\n",
    "X = np.loadtxt('./data/feature_extraction.csv',delimiter=',')\n",
    "y_ = pd.read_csv('./data/y_train.csv').values # remove headers\n",
    "print('X shape:',X.shape,type(X))\n",
    "print('y shape:',y_.shape,type(y_))\n",
    "\n",
    "m = X.shape[0]"
   ]
  },
  {
   "cell_type": "markdown",
   "metadata": {},
   "source": [
    "## Normalise features for better training outcomes"
   ]
  },
  {
   "cell_type": "code",
   "execution_count": 3,
   "metadata": {},
   "outputs": [
    {
     "name": "stdout",
     "output_type": "stream",
     "text": [
      "Before scaling:\n",
      "[[-2.48068359e-03 -3.30602998e-03  7.53164633e-03  2.63418294e-01\n",
      "   2.98419490e+00]\n",
      " [ 4.60476531e-03 -7.75678062e-03  6.20627750e-03  1.21867458e-01\n",
      "   2.76819294e+00]\n",
      " [ 2.64566328e-03 -9.23168299e-03  2.79891515e-02  1.49711430e-01\n",
      "   2.88674457e+00]\n",
      " [ 6.23955469e-04 -2.80411156e-03  7.88664279e-03  2.01790516e-01\n",
      "   2.65792233e+00]\n",
      " [ 6.96887805e-03  4.61085891e-02 -1.42385063e-01 -8.61712500e-02\n",
      "   2.98149789e+00]]\n",
      "After scaling:\n",
      "[[-2.55876182e-01 -1.70952273e-01  1.22095825e-01  7.10781449e-01\n",
      "   3.93302213e-01]\n",
      " [ 4.26164177e-01 -2.36298506e-01  1.16038537e-01 -3.92834696e-02\n",
      "  -4.75995845e-01]\n",
      " [ 2.37582385e-01 -2.57953126e-01  2.15592055e-01  1.08259186e-01\n",
      "   1.11418768e-03]\n",
      " [ 4.29742040e-02 -1.63583072e-01  1.23718253e-01  3.84221499e-01\n",
      "  -9.19779004e-01]\n",
      " [ 6.53732016e-01  5.54556629e-01 -5.63063337e-01 -1.14166154e+00\n",
      "   3.82448128e-01]]\n"
     ]
    }
   ],
   "source": [
    "print('Before scaling:')\n",
    "print(X[0:5,0:5])\n",
    "zscore = StandardScaler()\n",
    "X = zscore.fit_transform(X) #scales each feature column\n",
    "print('After scaling:')\n",
    "print(X[0:5,0:5])"
   ]
  },
  {
   "cell_type": "markdown",
   "metadata": {},
   "source": [
    "## OHE of y labels\n",
    "While it is necessary to do one-hot encoding of labels, the tools we use here do not require OHE. StratifiedKFold directly uses the class number without requiring one-hot encoding. Similarly by using sparse_categorical_crossentropy as our model loss, we can directly use the class number. However we still need to convert class in string format into number format."
   ]
  },
  {
   "cell_type": "code",
   "execution_count": 61,
   "metadata": {},
   "outputs": [
    {
     "name": "stdout",
     "output_type": "stream",
     "text": [
      "y_multiclass shape: (3810,)\n",
      "Encoded classes: ['0:carpet', '1:concrete', '2:fine_concrete', '3:hard_tiles', '4:hard_tiles_large_space', '5:soft_pvc', '6:soft_tiles', '7:tiled', '8:wood']\n"
     ]
    }
   ],
   "source": [
    "y = y_[:,-1] # last column is the y label\n",
    "\n",
    "encoder = LabelEncoder()\n",
    "y_multiclass = encoder.fit_transform(y)\n",
    "print('y_multiclass shape:',y_multiclass.shape)\n",
    "print('Encoded classes:',['{}:{}'.format(tup[0],tup[1]) for tup in enumerate(encoder.classes_)])"
   ]
  },
  {
   "cell_type": "markdown",
   "metadata": {},
   "source": [
    "## Determine set of hyperparameters for K-fold evaluation\n",
    "In our model, we shall attempt to find the best of hyperparameters. The tunable hyperparameters are:\n",
    "- Number of Neurons in hidden layer 1\n",
    "- Dropout value (post-activation at hidden layer 1)\n",
    "- Epochs for training\n",
    "\n",
    "In Keras we can also see the validation accuracy on every epoch."
   ]
  },
  {
   "cell_type": "code",
   "execution_count": 62,
   "metadata": {},
   "outputs": [],
   "source": [
    "hidden_neurons = [150,300,500]\n",
    "dropouts = [0.1,0.25,0.5]\n",
    "epochs = [50,100,150]"
   ]
  },
  {
   "cell_type": "markdown",
   "metadata": {},
   "source": [
    "## Create Model\n",
    "We create a hidden layer with 50 neurons."
   ]
  },
  {
   "cell_type": "code",
   "execution_count": 63,
   "metadata": {},
   "outputs": [],
   "source": [
    "def create_model(hyperparams):\n",
    "    # Create shallow NN model\n",
    "    input_dim = X.shape[1]\n",
    "    output_dim = len(encoder.classes_) # number of classes \n",
    "    hidden_dim_1 = hyperparams['hidden_layer']\n",
    "    hidden_dim_2 = output_dim*5\n",
    "\n",
    "    model = Sequential()\n",
    "    model.add(Dense(hidden_dim_1, input_dim=input_dim, activation='relu'))\n",
    "    model.add(Dropout(hyperparams['dropout']))\n",
    "    model.add(Dense(hidden_dim_2, activation='relu'))\n",
    "    model.add(Dense(output_dim, activation='softmax'))\n",
    "\n",
    "#     model.summary()\n",
    "    model.compile(loss='sparse_categorical_crossentropy', optimizer='adam', metrics=['accuracy'])\n",
    "    \n",
    "    return model"
   ]
  },
  {
   "cell_type": "markdown",
   "metadata": {},
   "source": [
    "## Split Train-Test Set for later evaluation"
   ]
  },
  {
   "cell_type": "code",
   "execution_count": 64,
   "metadata": {},
   "outputs": [],
   "source": [
    "X_train, X_test, y_train, y_test = train_test_split(X, y_multiclass, test_size=0.2)"
   ]
  },
  {
   "cell_type": "markdown",
   "metadata": {},
   "source": [
    "## Train the model and evaluate each set of hyperparameters using K-Fold Cross Validation\n",
    "As defined earlier, we will create various permutations of hyperparameters. Since there are 3 possible options for each adjustable hyperparameter, we will obtain a total of 27 possible cases."
   ]
  },
  {
   "cell_type": "code",
   "execution_count": 16,
   "metadata": {},
   "outputs": [
    {
     "name": "stdout",
     "output_type": "stream",
     "text": [
      "Model hidden neurons = 150, dropout rate = 0.1, # epochs = 50\n",
      "Training on fold 1/5...\n",
      "Last training accuracy: 0.8648315529991784, last validation accuracy: 0.6856677522488448\n",
      "Training on fold 2/5...\n",
      "Last training accuracy: 0.8625922887123834, last validation accuracy: 0.7262295081967213\n",
      "Training on fold 3/5...\n",
      "Last training accuracy: 0.8519278096800657, last validation accuracy: 0.6950819672131148\n",
      "Training on fold 4/5...\n",
      "Last training accuracy: 0.8639344262295082, last validation accuracy: 0.712171052631579\n",
      "Training on fold 5/5...\n",
      "Last training accuracy: 0.8644553645041807, last validation accuracy: 0.698019801783483\n",
      "Average Loss: 1.0828817406232838\n",
      "Model hidden neurons = 150, dropout rate = 0.1, # epochs = 100\n",
      "Training on fold 1/5...\n",
      "Last training accuracy: 0.923582580115037, last validation accuracy: 0.7361563517915309\n",
      "Training on fold 2/5...\n",
      "Last training accuracy: 0.9294503691061488, last validation accuracy: 0.7639344262295082\n",
      "Training on fold 3/5...\n",
      "Last training accuracy: 0.9302707136997539, last validation accuracy: 0.7147540983606557\n",
      "Training on fold 4/5...\n",
      "Last training accuracy: 0.9344262295081968, last validation accuracy: 0.7105263157894737\n",
      "Training on fold 5/5...\n",
      "Last training accuracy: 0.9422604423092585, last validation accuracy: 0.7343234317530893\n",
      "Average Loss: 1.0535973346297014\n",
      "Model hidden neurons = 150, dropout rate = 0.1, # epochs = 150\n",
      "Training on fold 1/5...\n",
      "Last training accuracy: 0.9605587510271159, last validation accuracy: 0.723127035636467\n",
      "Training on fold 2/5...\n",
      "Last training accuracy: 0.9618539786710418, last validation accuracy: 0.719672131147541\n",
      "Training on fold 3/5...\n",
      "Last training accuracy: 0.9634946677604594, last validation accuracy: 0.7475409836065574\n",
      "Training on fold 4/5...\n",
      "Last training accuracy: 0.9594262295081967, last validation accuracy: 0.7368421052631579\n",
      "Training on fold 5/5...\n",
      "Last training accuracy: 0.9590499589523266, last validation accuracy: 0.7623762386073374\n",
      "Average Loss: 1.0755126949817713\n",
      "Model hidden neurons = 150, dropout rate = 0.25, # epochs = 50\n",
      "Training on fold 1/5...\n",
      "Last training accuracy: 0.8130649137222679, last validation accuracy: 0.6693811075889327\n",
      "Training on fold 2/5...\n",
      "Last training accuracy: 0.7879409351438846, last validation accuracy: 0.6918032786885245\n",
      "Training on fold 3/5...\n"
     ]
    },
    {
     "ename": "KeyboardInterrupt",
     "evalue": "",
     "output_type": "error",
     "traceback": [
      "\u001b[1;31m---------------------------------------------------------------------------\u001b[0m",
      "\u001b[1;31mKeyboardInterrupt\u001b[0m                         Traceback (most recent call last)",
      "\u001b[1;32m<ipython-input-16-2a15ff42710a>\u001b[0m in \u001b[0;36m<module>\u001b[1;34m\u001b[0m\n\u001b[0;32m     32\u001b[0m                 \u001b[0mmodel\u001b[0m \u001b[1;33m=\u001b[0m \u001b[0mcreate_model\u001b[0m\u001b[1;33m(\u001b[0m\u001b[0mhyperparams\u001b[0m\u001b[1;33m)\u001b[0m\u001b[1;33m\u001b[0m\u001b[0m\n\u001b[0;32m     33\u001b[0m \u001b[1;33m\u001b[0m\u001b[0m\n\u001b[1;32m---> 34\u001b[1;33m                 \u001b[0mhistory\u001b[0m \u001b[1;33m=\u001b[0m \u001b[0mmodel\u001b[0m\u001b[1;33m.\u001b[0m\u001b[0mfit\u001b[0m\u001b[1;33m(\u001b[0m\u001b[0mxtrain\u001b[0m\u001b[1;33m,\u001b[0m \u001b[0mytrain\u001b[0m\u001b[1;33m,\u001b[0m \u001b[0mepochs\u001b[0m\u001b[1;33m=\u001b[0m\u001b[0mhyperparams\u001b[0m\u001b[1;33m[\u001b[0m\u001b[1;34m'epoch'\u001b[0m\u001b[1;33m]\u001b[0m\u001b[1;33m,\u001b[0m \u001b[0mvalidation_data\u001b[0m\u001b[1;33m=\u001b[0m\u001b[1;33m(\u001b[0m\u001b[0mxval\u001b[0m\u001b[1;33m,\u001b[0m\u001b[0myval\u001b[0m\u001b[1;33m)\u001b[0m\u001b[1;33m,\u001b[0m\u001b[0mverbose\u001b[0m\u001b[1;33m=\u001b[0m\u001b[1;36m0\u001b[0m\u001b[1;33m)\u001b[0m\u001b[1;33m\u001b[0m\u001b[0m\n\u001b[0m\u001b[0;32m     35\u001b[0m \u001b[1;33m\u001b[0m\u001b[0m\n\u001b[0;32m     36\u001b[0m                 \u001b[0mhist\u001b[0m \u001b[1;33m=\u001b[0m \u001b[0mhistory\u001b[0m\u001b[1;33m.\u001b[0m\u001b[0mhistory\u001b[0m\u001b[1;33m\u001b[0m\u001b[0m\n",
      "\u001b[1;32m~\\AppData\\Local\\Programs\\Python\\Python36\\lib\\site-packages\\keras\\engine\\training.py\u001b[0m in \u001b[0;36mfit\u001b[1;34m(self, x, y, batch_size, epochs, verbose, callbacks, validation_split, validation_data, shuffle, class_weight, sample_weight, initial_epoch, steps_per_epoch, validation_steps, **kwargs)\u001b[0m\n\u001b[0;32m   1037\u001b[0m                                         \u001b[0minitial_epoch\u001b[0m\u001b[1;33m=\u001b[0m\u001b[0minitial_epoch\u001b[0m\u001b[1;33m,\u001b[0m\u001b[1;33m\u001b[0m\u001b[0m\n\u001b[0;32m   1038\u001b[0m                                         \u001b[0msteps_per_epoch\u001b[0m\u001b[1;33m=\u001b[0m\u001b[0msteps_per_epoch\u001b[0m\u001b[1;33m,\u001b[0m\u001b[1;33m\u001b[0m\u001b[0m\n\u001b[1;32m-> 1039\u001b[1;33m                                         validation_steps=validation_steps)\n\u001b[0m\u001b[0;32m   1040\u001b[0m \u001b[1;33m\u001b[0m\u001b[0m\n\u001b[0;32m   1041\u001b[0m     def evaluate(self, x=None, y=None,\n",
      "\u001b[1;32m~\\AppData\\Local\\Programs\\Python\\Python36\\lib\\site-packages\\keras\\engine\\training_arrays.py\u001b[0m in \u001b[0;36mfit_loop\u001b[1;34m(model, f, ins, out_labels, batch_size, epochs, verbose, callbacks, val_f, val_ins, shuffle, callback_metrics, initial_epoch, steps_per_epoch, validation_steps)\u001b[0m\n\u001b[0;32m    197\u001b[0m                     \u001b[0mins_batch\u001b[0m\u001b[1;33m[\u001b[0m\u001b[0mi\u001b[0m\u001b[1;33m]\u001b[0m \u001b[1;33m=\u001b[0m \u001b[0mins_batch\u001b[0m\u001b[1;33m[\u001b[0m\u001b[0mi\u001b[0m\u001b[1;33m]\u001b[0m\u001b[1;33m.\u001b[0m\u001b[0mtoarray\u001b[0m\u001b[1;33m(\u001b[0m\u001b[1;33m)\u001b[0m\u001b[1;33m\u001b[0m\u001b[0m\n\u001b[0;32m    198\u001b[0m \u001b[1;33m\u001b[0m\u001b[0m\n\u001b[1;32m--> 199\u001b[1;33m                 \u001b[0mouts\u001b[0m \u001b[1;33m=\u001b[0m \u001b[0mf\u001b[0m\u001b[1;33m(\u001b[0m\u001b[0mins_batch\u001b[0m\u001b[1;33m)\u001b[0m\u001b[1;33m\u001b[0m\u001b[0m\n\u001b[0m\u001b[0;32m    200\u001b[0m                 \u001b[0mouts\u001b[0m \u001b[1;33m=\u001b[0m \u001b[0mto_list\u001b[0m\u001b[1;33m(\u001b[0m\u001b[0mouts\u001b[0m\u001b[1;33m)\u001b[0m\u001b[1;33m\u001b[0m\u001b[0m\n\u001b[0;32m    201\u001b[0m                 \u001b[1;32mfor\u001b[0m \u001b[0ml\u001b[0m\u001b[1;33m,\u001b[0m \u001b[0mo\u001b[0m \u001b[1;32min\u001b[0m \u001b[0mzip\u001b[0m\u001b[1;33m(\u001b[0m\u001b[0mout_labels\u001b[0m\u001b[1;33m,\u001b[0m \u001b[0mouts\u001b[0m\u001b[1;33m)\u001b[0m\u001b[1;33m:\u001b[0m\u001b[1;33m\u001b[0m\u001b[0m\n",
      "\u001b[1;32m~\\AppData\\Local\\Programs\\Python\\Python36\\lib\\site-packages\\keras\\backend\\tensorflow_backend.py\u001b[0m in \u001b[0;36m__call__\u001b[1;34m(self, inputs)\u001b[0m\n\u001b[0;32m   2713\u001b[0m                 \u001b[1;32mreturn\u001b[0m \u001b[0mself\u001b[0m\u001b[1;33m.\u001b[0m\u001b[0m_legacy_call\u001b[0m\u001b[1;33m(\u001b[0m\u001b[0minputs\u001b[0m\u001b[1;33m)\u001b[0m\u001b[1;33m\u001b[0m\u001b[0m\n\u001b[0;32m   2714\u001b[0m \u001b[1;33m\u001b[0m\u001b[0m\n\u001b[1;32m-> 2715\u001b[1;33m             \u001b[1;32mreturn\u001b[0m \u001b[0mself\u001b[0m\u001b[1;33m.\u001b[0m\u001b[0m_call\u001b[0m\u001b[1;33m(\u001b[0m\u001b[0minputs\u001b[0m\u001b[1;33m)\u001b[0m\u001b[1;33m\u001b[0m\u001b[0m\n\u001b[0m\u001b[0;32m   2716\u001b[0m         \u001b[1;32melse\u001b[0m\u001b[1;33m:\u001b[0m\u001b[1;33m\u001b[0m\u001b[0m\n\u001b[0;32m   2717\u001b[0m             \u001b[1;32mif\u001b[0m \u001b[0mpy_any\u001b[0m\u001b[1;33m(\u001b[0m\u001b[0mis_tensor\u001b[0m\u001b[1;33m(\u001b[0m\u001b[0mx\u001b[0m\u001b[1;33m)\u001b[0m \u001b[1;32mfor\u001b[0m \u001b[0mx\u001b[0m \u001b[1;32min\u001b[0m \u001b[0minputs\u001b[0m\u001b[1;33m)\u001b[0m\u001b[1;33m:\u001b[0m\u001b[1;33m\u001b[0m\u001b[0m\n",
      "\u001b[1;32m~\\AppData\\Local\\Programs\\Python\\Python36\\lib\\site-packages\\keras\\backend\\tensorflow_backend.py\u001b[0m in \u001b[0;36m_call\u001b[1;34m(self, inputs)\u001b[0m\n\u001b[0;32m   2673\u001b[0m             \u001b[0mfetched\u001b[0m \u001b[1;33m=\u001b[0m \u001b[0mself\u001b[0m\u001b[1;33m.\u001b[0m\u001b[0m_callable_fn\u001b[0m\u001b[1;33m(\u001b[0m\u001b[1;33m*\u001b[0m\u001b[0marray_vals\u001b[0m\u001b[1;33m,\u001b[0m \u001b[0mrun_metadata\u001b[0m\u001b[1;33m=\u001b[0m\u001b[0mself\u001b[0m\u001b[1;33m.\u001b[0m\u001b[0mrun_metadata\u001b[0m\u001b[1;33m)\u001b[0m\u001b[1;33m\u001b[0m\u001b[0m\n\u001b[0;32m   2674\u001b[0m         \u001b[1;32melse\u001b[0m\u001b[1;33m:\u001b[0m\u001b[1;33m\u001b[0m\u001b[0m\n\u001b[1;32m-> 2675\u001b[1;33m             \u001b[0mfetched\u001b[0m \u001b[1;33m=\u001b[0m \u001b[0mself\u001b[0m\u001b[1;33m.\u001b[0m\u001b[0m_callable_fn\u001b[0m\u001b[1;33m(\u001b[0m\u001b[1;33m*\u001b[0m\u001b[0marray_vals\u001b[0m\u001b[1;33m)\u001b[0m\u001b[1;33m\u001b[0m\u001b[0m\n\u001b[0m\u001b[0;32m   2676\u001b[0m         \u001b[1;32mreturn\u001b[0m \u001b[0mfetched\u001b[0m\u001b[1;33m[\u001b[0m\u001b[1;33m:\u001b[0m\u001b[0mlen\u001b[0m\u001b[1;33m(\u001b[0m\u001b[0mself\u001b[0m\u001b[1;33m.\u001b[0m\u001b[0moutputs\u001b[0m\u001b[1;33m)\u001b[0m\u001b[1;33m]\u001b[0m\u001b[1;33m\u001b[0m\u001b[0m\n\u001b[0;32m   2677\u001b[0m \u001b[1;33m\u001b[0m\u001b[0m\n",
      "\u001b[1;32m~\\AppData\\Local\\Programs\\Python\\Python36\\lib\\site-packages\\tensorflow\\python\\client\\session.py\u001b[0m in \u001b[0;36m__call__\u001b[1;34m(self, *args, **kwargs)\u001b[0m\n\u001b[0;32m   1437\u001b[0m           ret = tf_session.TF_SessionRunCallable(\n\u001b[0;32m   1438\u001b[0m               \u001b[0mself\u001b[0m\u001b[1;33m.\u001b[0m\u001b[0m_session\u001b[0m\u001b[1;33m.\u001b[0m\u001b[0m_session\u001b[0m\u001b[1;33m,\u001b[0m \u001b[0mself\u001b[0m\u001b[1;33m.\u001b[0m\u001b[0m_handle\u001b[0m\u001b[1;33m,\u001b[0m \u001b[0margs\u001b[0m\u001b[1;33m,\u001b[0m \u001b[0mstatus\u001b[0m\u001b[1;33m,\u001b[0m\u001b[1;33m\u001b[0m\u001b[0m\n\u001b[1;32m-> 1439\u001b[1;33m               run_metadata_ptr)\n\u001b[0m\u001b[0;32m   1440\u001b[0m         \u001b[1;32mif\u001b[0m \u001b[0mrun_metadata\u001b[0m\u001b[1;33m:\u001b[0m\u001b[1;33m\u001b[0m\u001b[0m\n\u001b[0;32m   1441\u001b[0m           \u001b[0mproto_data\u001b[0m \u001b[1;33m=\u001b[0m \u001b[0mtf_session\u001b[0m\u001b[1;33m.\u001b[0m\u001b[0mTF_GetBuffer\u001b[0m\u001b[1;33m(\u001b[0m\u001b[0mrun_metadata_ptr\u001b[0m\u001b[1;33m)\u001b[0m\u001b[1;33m\u001b[0m\u001b[0m\n",
      "\u001b[1;31mKeyboardInterrupt\u001b[0m: "
     ]
    }
   ],
   "source": [
    "kfold_splits = 5\n",
    "\n",
    "# Instantiate the cross validator\n",
    "skf = StratifiedKFold(n_splits=kfold_splits, shuffle=True)\n",
    "\n",
    "val_loss_all = {}\n",
    "\n",
    "# Enumerate over all possible combos\n",
    "for i,neurons in enumerate(hidden_neurons):\n",
    "    for j,dropout in enumerate(dropouts):\n",
    "        for k,epoch in enumerate(epochs):\n",
    "            print('Model hidden neurons = {}, dropout rate = {}, # epochs = {}'.format(neurons,dropout,epoch))\n",
    "        \n",
    "            val_loss_kfold = []\n",
    "\n",
    "            # Loop through the indices the split() method returns\n",
    "            for index, (train_indices, val_indices) in enumerate(skf.split(X_train, y_train)):\n",
    "                print(\"Training on fold \" + str(index+1) + \"/{}...\".format(kfold_splits))\n",
    "\n",
    "                # Generate batches from indices\n",
    "                xtrain, xval = X[train_indices], X[val_indices]\n",
    "                ytrain, yval = y_multiclass[train_indices], y_multiclass[val_indices]\n",
    "\n",
    "                #define hyperparams set\n",
    "                hyperparams = {}\n",
    "                hyperparams['hidden_layer'] = neurons\n",
    "                hyperparams['dropout'] = dropout\n",
    "                hyperparams['epoch'] = epoch\n",
    "\n",
    "                # Clear model, and create it\n",
    "                model = None\n",
    "                model = create_model(hyperparams)\n",
    "\n",
    "                history = model.fit(xtrain, ytrain, epochs=hyperparams['epoch'], validation_data=(xval,yval),verbose=0)\n",
    "\n",
    "                hist = history.history\n",
    "                val_loss = hist['val_loss']\n",
    "                loss = hist['loss']\n",
    "\n",
    "                # for choosing best val acc\n",
    "                val_loss_kfold.append(hist['val_loss'])\n",
    "                print(\"Last training accuracy: \" + str(hist['acc'][-1]) + \", last validation accuracy: \" + str(hist['val_acc'][-1]))\n",
    "\n",
    "            print('Average Loss: {}'.format(np.mean(val_loss_kfold)))\n",
    "            val_loss_all[(neurons,dropout,epoch)] = np.mean(val_loss_kfold)\n",
    "    \n",
    "    "
   ]
  },
  {
   "cell_type": "code",
   "execution_count": null,
   "metadata": {},
   "outputs": [],
   "source": [
    "# convert dict of validation losses to 3d coordinate format + value\n",
    "heatmap_3d = np.zeros([0,4])\n",
    "for key,value in val_loss_all.items():\n",
    "    heatmap_3d = np.vstack((heatmap_3d,[hidden_neurons.index(key[0]),dropouts.index(key[1]),epochs.index(key[2]),value]))\n",
    "\n",
    "# saving val losses for various combinations\n",
    "def write_pickle(file,data):\n",
    "    with open(file, 'wb') as outfile:\n",
    "        serialized = pickle.dumps(data)\n",
    "        outfile.write(serialized)\n",
    "        \n",
    "def read_pickle(file):\n",
    "    with open(file,'rb') as datafile:\n",
    "        serialized = datafile.read()\n",
    "        data = pickle.loads(serialized)\n",
    "        return data\n",
    "        \n",
    "# write_pickle('./history/val_loss.pickle',val_loss_all)"
   ]
  },
  {
   "cell_type": "markdown",
   "metadata": {},
   "source": [
    "## Visualise the best hyperparameter selection\n",
    "In the diagram, we want to visualise the losses in a 3d space, allowing us to quickly draw trends or get the lowest/highest losses. Drag & hold to visualise the 3d heatmap from different angles."
   ]
  },
  {
   "cell_type": "code",
   "execution_count": 101,
   "metadata": {},
   "outputs": [
    {
     "data": {
      "application/vnd.plotly.v1+json": {
       "config": {
        "linkText": "Export to plot.ly",
        "plotlyServerURL": "https://plot.ly",
        "showLink": false
       },
       "data": [
        {
         "marker": {
          "color": [
           1.1562583283555086,
           1.1201013736453962,
           1.1185649278984195,
           1.1791879811865673,
           1.0947781933497567,
           1.064792020616209,
           1.216380231423094,
           1.1573916004758893,
           1.1052761465207868,
           1.126519769579232,
           1.1414830987953721,
           1.1661958210493135,
           1.1202140906832931,
           1.076889970885282,
           1.0773405159219829,
           1.1494670122968693,
           1.0854917942803202,
           1.0518331272969335,
           1.1435096127267257,
           1.1804898685809098,
           1.216314913358846,
           1.114160065830111,
           1.0998702911098872,
           1.1090396216037213,
           1.1135545199397827,
           1.0598773589714925,
           1.053185738363888
          ],
          "colorscale": "Viridis",
          "opacity": 0.8,
          "showscale": true,
          "size": 24
         },
         "mode": "markers",
         "type": "scatter3d",
         "uid": "69fb248f-4b7f-469d-bb2c-dbe4a333db2f",
         "x": [
          0,
          0,
          0,
          0,
          0,
          0,
          0,
          0,
          0,
          1,
          1,
          1,
          1,
          1,
          1,
          1,
          1,
          1,
          2,
          2,
          2,
          2,
          2,
          2,
          2,
          2,
          2
         ],
         "y": [
          0,
          0,
          0,
          1,
          1,
          1,
          2,
          2,
          2,
          0,
          0,
          0,
          1,
          1,
          1,
          2,
          2,
          2,
          0,
          0,
          0,
          1,
          1,
          1,
          2,
          2,
          2
         ],
         "z": [
          0,
          1,
          2,
          0,
          1,
          2,
          0,
          1,
          2,
          0,
          1,
          2,
          0,
          1,
          2,
          0,
          1,
          2,
          0,
          1,
          2,
          0,
          1,
          2,
          0,
          1,
          2
         ]
        }
       ],
       "layout": {
        "height": 800,
        "scene": {
         "xaxis": {
          "nticks": 3,
          "ticktext": [
           150,
           300,
           500
          ],
          "tickvals": [
           0,
           1,
           2
          ],
          "title": {
           "text": "# Hidden Neurons"
          }
         },
         "yaxis": {
          "nticks": 3,
          "ticktext": [
           0.1,
           0.25,
           0.5
          ],
          "tickvals": [
           0,
           1,
           2
          ],
          "title": {
           "text": "Dropout Rate"
          }
         },
         "zaxis": {
          "nticks": 3,
          "ticktext": [
           150,
           250,
           350
          ],
          "tickvals": [
           0,
           1,
           2
          ],
          "title": {
           "text": "# Epochs"
          }
         }
        },
        "title": {
         "text": "Validation Loss"
        },
        "width": 800
       }
      },
      "text/html": [
       "<div>\n",
       "        \n",
       "        \n",
       "            <div id=\"e9a75c68-da73-4a13-acab-bf478f230ca5\" class=\"plotly-graph-div\"></div>\n",
       "            <script type=\"text/javascript\">\n",
       "                require([\"plotly\"], function(Plotly) {\n",
       "                    window.PLOTLYENV=window.PLOTLYENV || {};\n",
       "                    window.PLOTLYENV.BASE_URL='https://plot.ly';\n",
       "                    \n",
       "                if (document.getElementById(\"e9a75c68-da73-4a13-acab-bf478f230ca5\")) {\n",
       "                    Plotly.newPlot(\n",
       "                        'e9a75c68-da73-4a13-acab-bf478f230ca5',\n",
       "                        [{\"marker\": {\"color\": [1.1562583283555086, 1.1201013736453962, 1.1185649278984195, 1.1791879811865673, 1.0947781933497567, 1.064792020616209, 1.216380231423094, 1.1573916004758893, 1.1052761465207868, 1.126519769579232, 1.1414830987953721, 1.1661958210493135, 1.1202140906832931, 1.076889970885282, 1.0773405159219829, 1.1494670122968693, 1.0854917942803202, 1.0518331272969335, 1.1435096127267257, 1.1804898685809098, 1.216314913358846, 1.114160065830111, 1.0998702911098872, 1.1090396216037213, 1.1135545199397827, 1.0598773589714925, 1.053185738363888], \"colorscale\": \"Viridis\", \"opacity\": 0.8, \"showscale\": true, \"size\": 24}, \"mode\": \"markers\", \"type\": \"scatter3d\", \"uid\": \"f823ec3b-2e9c-4925-bd21-8977dfd6a4ca\", \"x\": [0.0, 0.0, 0.0, 0.0, 0.0, 0.0, 0.0, 0.0, 0.0, 1.0, 1.0, 1.0, 1.0, 1.0, 1.0, 1.0, 1.0, 1.0, 2.0, 2.0, 2.0, 2.0, 2.0, 2.0, 2.0, 2.0, 2.0], \"y\": [0.0, 0.0, 0.0, 1.0, 1.0, 1.0, 2.0, 2.0, 2.0, 0.0, 0.0, 0.0, 1.0, 1.0, 1.0, 2.0, 2.0, 2.0, 0.0, 0.0, 0.0, 1.0, 1.0, 1.0, 2.0, 2.0, 2.0], \"z\": [0.0, 1.0, 2.0, 0.0, 1.0, 2.0, 0.0, 1.0, 2.0, 0.0, 1.0, 2.0, 0.0, 1.0, 2.0, 0.0, 1.0, 2.0, 0.0, 1.0, 2.0, 0.0, 1.0, 2.0, 0.0, 1.0, 2.0]}],\n",
       "                        {\"height\": 800, \"scene\": {\"xaxis\": {\"nticks\": 3, \"ticktext\": [150, 300, 500], \"tickvals\": [0, 1, 2], \"title\": {\"text\": \"# Hidden Neurons\"}}, \"yaxis\": {\"nticks\": 3, \"ticktext\": [0.1, 0.25, 0.5], \"tickvals\": [0, 1, 2], \"title\": {\"text\": \"Dropout Rate\"}}, \"zaxis\": {\"nticks\": 3, \"ticktext\": [150, 250, 350], \"tickvals\": [0, 1, 2], \"title\": {\"text\": \"# Epochs\"}}}, \"title\": {\"text\": \"Validation Loss\"}, \"width\": 800},\n",
       "                        {\"showLink\": false, \"linkText\": \"Export to plot.ly\", \"plotlyServerURL\": \"https://plot.ly\"}\n",
       "                    )\n",
       "                };\n",
       "                });\n",
       "            </script>\n",
       "        </div>"
      ]
     },
     "metadata": {},
     "output_type": "display_data"
    }
   ],
   "source": [
    "# Using plotly's Scatter3d\n",
    "\n",
    "trace1 = go.Scatter3d(\n",
    "    x=heatmap_3d[:,0],\n",
    "    y=heatmap_3d[:,1],\n",
    "    z=heatmap_3d[:,2],\n",
    "    mode='markers',\n",
    "    marker=dict(\n",
    "        size=24,\n",
    "        color=heatmap_3d[:,3],                # set color to an array/list of desired values\n",
    "        colorscale='Viridis',   # choose a colorscale\n",
    "        opacity=0.8,\n",
    "        showscale=True\n",
    "    )\n",
    ")\n",
    "\n",
    "data = [trace1]\n",
    "layout = go.Layout(\n",
    "    title='Validation Loss',\n",
    "    width=800,\n",
    "    height=800,\n",
    "    scene = dict(\n",
    "    xaxis=dict(\n",
    "        ticktext=hidden_neurons,\n",
    "        tickvals=[0,1,2],\n",
    "        nticks=3,\n",
    "        title='# Hidden Neurons'\n",
    "    ),\n",
    "    yaxis=dict(\n",
    "        ticktext=dropouts,\n",
    "        tickvals=[0,1,2],\n",
    "        nticks=3,\n",
    "        title='Dropout Rate'\n",
    "    ),\n",
    "    zaxis=dict(\n",
    "        ticktext=epochs,\n",
    "        tickvals=[0,1,2],\n",
    "        nticks=3,\n",
    "        title='# Epochs'\n",
    "    )\n",
    "))\n",
    "\n",
    "fig = go.Figure(data=data, layout=layout)\n",
    "iplot(fig, filename='3d-scatter-colorscale')"
   ]
  },
  {
   "cell_type": "markdown",
   "metadata": {},
   "source": [
    "From the above plot, we compare between any of the 2 hyperparameter dimensions. All validation losses are referred to as K-fold validation losses. Let us explain some of the observations:\n",
    "\n",
    "**1) dropout vs hidden neurons (@ epochs = 150)**\n",
    "\n",
    "We observe that with increased learning capacity (hidden neurons = 500), increasing dropout rate actually reduces the validation loss. However, with lower learning capacity (hidden neurons = 150,300), increasing dropout actually harms the performance of the model by increasing the validation loss. This is expected, because with increasingly complex models, it is more likely to overfit, hence dropouts serve as regularisation parameters, which improves the model's ability to generalise. We also observe that for higher dropout rates (0.25,0.5), performance improves with increasing hidden neurons. If we try to apply more regularisation to models with lower learning capacity, we will observe higher bias and poorer performance.\n",
    "\n",
    "**2) Epochs vs hidden neurons (@ dropout = 0.1)**\n",
    "\n",
    "We observe that with more hidden neurons, performance is better with less training epochs. The lowest validation loss is at 350 epochs for a model with 150 hidden neurons, whereas the lowest validation loss is at 150 epochs for a model with 300 & 500 hidden neurons. With more neurons, we increase the complexity & expressiveness of the model, hence resulting in faster convergence. Any further training resulted in worsening performance (increased validation losses). Furthermore, due to the low dropout rate for this case, it is easy for the model to overfit.\n",
    "\n",
    "**3) Epochs vs dropout (@ hidden neurons = 500)**\n",
    "\n",
    "We see that for low dropout rates, we quickly converge and any further training hurts the performance. At increasing dropout rates, performance improved with more epochs, as more iterations are required for the model to converge. For a more complex model, regardless at any epoch counts, we observe that performance improves with increased dropout."
   ]
  },
  {
   "cell_type": "code",
   "execution_count": 138,
   "metadata": {},
   "outputs": [
    {
     "name": "stdout",
     "output_type": "stream",
     "text": [
      "The best combinaton belongs to (300, 0.5, 350), with a lowest val loss of 1.0518331272969335.\n"
     ]
    }
   ],
   "source": [
    "# Get best hyperparameter set based on val loss\n",
    "val_loss_best,best_hyper = min(val_loss_all.values()),min(val_loss_all,key=val_loss_all.get)\n",
    "print('The best combinaton belongs to {}, with a lowest val loss of {}.'.format(best_hyper,val_loss_best))"
   ]
  },
  {
   "cell_type": "markdown",
   "metadata": {},
   "source": [
    "## Retrain the best model\n",
    "From the previous step, we have determined that the best model has the hyperparameters:\n",
    "- Hidden Layer Neurons = 300\n",
    "- Dropout = 0.5\n",
    "- Epochs = 350\n",
    "\n",
    "Now we will retrain this permutation using all available training data and visualise the process."
   ]
  },
  {
   "cell_type": "code",
   "execution_count": 55,
   "metadata": {},
   "outputs": [],
   "source": [
    "best_hyper = (500,0.2,100)"
   ]
  },
  {
   "cell_type": "code",
   "execution_count": 75,
   "metadata": {},
   "outputs": [
    {
     "name": "stdout",
     "output_type": "stream",
     "text": [
      "Train on 3048 samples, validate on 762 samples\n",
      "Epoch 1/100\n",
      "3048/3048 [==============================] - 0s 118us/step - loss: 0.3293 - acc: 0.8835 - val_loss: 0.8161 - val_acc: 0.7717\n",
      "Epoch 2/100\n",
      "3048/3048 [==============================] - 0s 111us/step - loss: 0.3444 - acc: 0.8786 - val_loss: 0.8280 - val_acc: 0.7559\n",
      "Epoch 3/100\n",
      "3048/3048 [==============================] - 0s 115us/step - loss: 0.3454 - acc: 0.8806 - val_loss: 0.8557 - val_acc: 0.7533\n",
      "Epoch 4/100\n",
      "3048/3048 [==============================] - 0s 140us/step - loss: 0.3467 - acc: 0.8730 - val_loss: 0.8360 - val_acc: 0.7651\n",
      "Epoch 5/100\n",
      "3048/3048 [==============================] - 0s 129us/step - loss: 0.3577 - acc: 0.8740 - val_loss: 0.8569 - val_acc: 0.7690\n",
      "Epoch 6/100\n",
      "3048/3048 [==============================] - 0s 128us/step - loss: 0.3539 - acc: 0.8625 - val_loss: 0.8421 - val_acc: 0.7703\n",
      "Epoch 7/100\n",
      "3048/3048 [==============================] - 0s 136us/step - loss: 0.3620 - acc: 0.8740 - val_loss: 0.8752 - val_acc: 0.7638\n",
      "Epoch 8/100\n",
      "3048/3048 [==============================] - 0s 129us/step - loss: 0.3236 - acc: 0.8855 - val_loss: 0.8870 - val_acc: 0.7664\n",
      "Epoch 9/100\n",
      "3048/3048 [==============================] - 0s 125us/step - loss: 0.3344 - acc: 0.8760 - val_loss: 0.8704 - val_acc: 0.7782\n",
      "Epoch 10/100\n",
      "3048/3048 [==============================] - 0s 114us/step - loss: 0.3451 - acc: 0.8809 - val_loss: 0.8291 - val_acc: 0.7808\n",
      "Epoch 11/100\n",
      "3048/3048 [==============================] - 0s 105us/step - loss: 0.3378 - acc: 0.8760 - val_loss: 0.8869 - val_acc: 0.7572\n",
      "Epoch 12/100\n",
      "3048/3048 [==============================] - 0s 114us/step - loss: 0.3323 - acc: 0.8816 - val_loss: 0.8437 - val_acc: 0.7480\n",
      "Epoch 13/100\n",
      "3048/3048 [==============================] - 0s 126us/step - loss: 0.3237 - acc: 0.8829 - val_loss: 0.8542 - val_acc: 0.7703\n",
      "Epoch 14/100\n",
      "3048/3048 [==============================] - 0s 123us/step - loss: 0.3392 - acc: 0.8734 - val_loss: 0.8293 - val_acc: 0.7743\n",
      "Epoch 15/100\n",
      "3048/3048 [==============================] - 0s 105us/step - loss: 0.3234 - acc: 0.8835 - val_loss: 0.8270 - val_acc: 0.7717\n",
      "Epoch 16/100\n",
      "3048/3048 [==============================] - 0s 103us/step - loss: 0.3339 - acc: 0.8799 - val_loss: 0.7785 - val_acc: 0.7822\n",
      "Epoch 17/100\n",
      "3048/3048 [==============================] - 0s 103us/step - loss: 0.3301 - acc: 0.8763 - val_loss: 0.9191 - val_acc: 0.7402\n",
      "Epoch 18/100\n",
      "3048/3048 [==============================] - 0s 104us/step - loss: 0.3637 - acc: 0.8694 - val_loss: 0.8815 - val_acc: 0.7638\n",
      "Epoch 19/100\n",
      "3048/3048 [==============================] - 0s 150us/step - loss: 0.3190 - acc: 0.8852 - val_loss: 0.8753 - val_acc: 0.7612\n",
      "Epoch 20/100\n",
      "3048/3048 [==============================] - 0s 116us/step - loss: 0.3424 - acc: 0.8812 - val_loss: 0.8707 - val_acc: 0.7743\n",
      "Epoch 21/100\n",
      "3048/3048 [==============================] - 0s 110us/step - loss: 0.3377 - acc: 0.8812 - val_loss: 0.8271 - val_acc: 0.7756\n",
      "Epoch 22/100\n",
      "3048/3048 [==============================] - 0s 104us/step - loss: 0.3367 - acc: 0.8766 - val_loss: 0.8955 - val_acc: 0.7598\n",
      "Epoch 23/100\n",
      "3048/3048 [==============================] - 0s 101us/step - loss: 0.3401 - acc: 0.8812 - val_loss: 0.9211 - val_acc: 0.7664\n",
      "Epoch 24/100\n",
      "3048/3048 [==============================] - 0s 101us/step - loss: 0.3405 - acc: 0.8832 - val_loss: 0.8463 - val_acc: 0.7690\n",
      "Epoch 25/100\n",
      "3048/3048 [==============================] - 0s 98us/step - loss: 0.3263 - acc: 0.8835 - val_loss: 0.9023 - val_acc: 0.7507\n",
      "Epoch 26/100\n",
      "3048/3048 [==============================] - 0s 103us/step - loss: 0.3416 - acc: 0.8780 - val_loss: 0.8800 - val_acc: 0.7717\n",
      "Epoch 27/100\n",
      "3048/3048 [==============================] - 0s 101us/step - loss: 0.3371 - acc: 0.8753 - val_loss: 0.8552 - val_acc: 0.7625\n",
      "Epoch 28/100\n",
      "3048/3048 [==============================] - 0s 100us/step - loss: 0.3298 - acc: 0.8852 - val_loss: 0.8560 - val_acc: 0.7533\n",
      "Epoch 29/100\n",
      "3048/3048 [==============================] - 0s 100us/step - loss: 0.3445 - acc: 0.8812 - val_loss: 0.8504 - val_acc: 0.7612\n",
      "Epoch 30/100\n",
      "3048/3048 [==============================] - 0s 103us/step - loss: 0.3416 - acc: 0.8796 - val_loss: 0.8934 - val_acc: 0.7559\n",
      "Epoch 31/100\n",
      "3048/3048 [==============================] - 0s 98us/step - loss: 0.3246 - acc: 0.8796 - val_loss: 0.8555 - val_acc: 0.7690\n",
      "Epoch 32/100\n",
      "3048/3048 [==============================] - 0s 104us/step - loss: 0.3456 - acc: 0.8812 - val_loss: 0.8602 - val_acc: 0.7717\n",
      "Epoch 33/100\n",
      "3048/3048 [==============================] - 0s 101us/step - loss: 0.3481 - acc: 0.8750 - val_loss: 0.8524 - val_acc: 0.7572\n",
      "Epoch 34/100\n",
      "3048/3048 [==============================] - ETA: 0s - loss: 0.3239 - acc: 0.885 - 0s 100us/step - loss: 0.3213 - acc: 0.8848 - val_loss: 0.9161 - val_acc: 0.7559\n",
      "Epoch 35/100\n",
      "3048/3048 [==============================] - 0s 100us/step - loss: 0.3243 - acc: 0.8829 - val_loss: 0.9231 - val_acc: 0.7625\n",
      "Epoch 36/100\n",
      "3048/3048 [==============================] - 0s 101us/step - loss: 0.3304 - acc: 0.8862 - val_loss: 0.8810 - val_acc: 0.7625\n",
      "Epoch 37/100\n",
      "3048/3048 [==============================] - 0s 102us/step - loss: 0.3245 - acc: 0.8789 - val_loss: 0.8767 - val_acc: 0.7690\n",
      "Epoch 38/100\n",
      "3048/3048 [==============================] - 0s 101us/step - loss: 0.3321 - acc: 0.8750 - val_loss: 0.8890 - val_acc: 0.7585\n",
      "Epoch 39/100\n",
      "3048/3048 [==============================] - 0s 103us/step - loss: 0.3369 - acc: 0.8852 - val_loss: 0.8626 - val_acc: 0.7638\n",
      "Epoch 40/100\n",
      "3048/3048 [==============================] - 0s 104us/step - loss: 0.3348 - acc: 0.8829 - val_loss: 0.9063 - val_acc: 0.7625\n",
      "Epoch 41/100\n",
      "3048/3048 [==============================] - 0s 101us/step - loss: 0.3202 - acc: 0.8891 - val_loss: 0.8770 - val_acc: 0.7717\n",
      "Epoch 42/100\n",
      "3048/3048 [==============================] - 0s 104us/step - loss: 0.3560 - acc: 0.8734 - val_loss: 0.9019 - val_acc: 0.7533\n",
      "Epoch 43/100\n",
      "3048/3048 [==============================] - 0s 104us/step - loss: 0.3105 - acc: 0.8865 - val_loss: 0.8220 - val_acc: 0.7769\n",
      "Epoch 44/100\n",
      "3048/3048 [==============================] - 0s 101us/step - loss: 0.3261 - acc: 0.8829 - val_loss: 0.8651 - val_acc: 0.7625\n",
      "Epoch 45/100\n",
      "3048/3048 [==============================] - 0s 102us/step - loss: 0.3293 - acc: 0.8806 - val_loss: 0.9199 - val_acc: 0.7638\n",
      "Epoch 46/100\n",
      "3048/3048 [==============================] - 0s 104us/step - loss: 0.3284 - acc: 0.8845 - val_loss: 0.8934 - val_acc: 0.7782\n",
      "Epoch 47/100\n",
      "3048/3048 [==============================] - 0s 99us/step - loss: 0.3289 - acc: 0.8819 - val_loss: 0.9325 - val_acc: 0.7546\n",
      "Epoch 48/100\n",
      "3048/3048 [==============================] - 0s 101us/step - loss: 0.3176 - acc: 0.8907 - val_loss: 0.9640 - val_acc: 0.7533\n",
      "Epoch 49/100\n",
      "3048/3048 [==============================] - 0s 101us/step - loss: 0.3338 - acc: 0.8885 - val_loss: 0.8970 - val_acc: 0.7717\n",
      "Epoch 50/100\n",
      "3048/3048 [==============================] - 0s 103us/step - loss: 0.3032 - acc: 0.8907 - val_loss: 0.8777 - val_acc: 0.7730\n",
      "Epoch 51/100\n",
      "3048/3048 [==============================] - 0s 102us/step - loss: 0.3414 - acc: 0.8753 - val_loss: 0.9003 - val_acc: 0.7493\n",
      "Epoch 52/100\n",
      "3048/3048 [==============================] - 0s 102us/step - loss: 0.3261 - acc: 0.8898 - val_loss: 0.8887 - val_acc: 0.7612\n",
      "Epoch 53/100\n",
      "3048/3048 [==============================] - 0s 103us/step - loss: 0.3259 - acc: 0.8829 - val_loss: 0.8322 - val_acc: 0.7769\n",
      "Epoch 54/100\n",
      "3048/3048 [==============================] - 0s 101us/step - loss: 0.3243 - acc: 0.8835 - val_loss: 0.9140 - val_acc: 0.7612\n",
      "Epoch 55/100\n",
      "3048/3048 [==============================] - 0s 104us/step - loss: 0.3164 - acc: 0.8901 - val_loss: 0.8896 - val_acc: 0.7625\n",
      "Epoch 56/100\n",
      "3048/3048 [==============================] - 0s 101us/step - loss: 0.3081 - acc: 0.8875 - val_loss: 0.8545 - val_acc: 0.7782\n",
      "Epoch 57/100\n",
      "3048/3048 [==============================] - 0s 109us/step - loss: 0.3389 - acc: 0.8825 - val_loss: 0.9169 - val_acc: 0.7664\n",
      "Epoch 58/100\n",
      "3048/3048 [==============================] - 0s 105us/step - loss: 0.3297 - acc: 0.8809 - val_loss: 0.9067 - val_acc: 0.7651\n",
      "Epoch 59/100\n",
      "3048/3048 [==============================] - 0s 106us/step - loss: 0.3053 - acc: 0.8888 - val_loss: 0.8710 - val_acc: 0.7743\n"
     ]
    },
    {
     "name": "stdout",
     "output_type": "stream",
     "text": [
      "Epoch 60/100\n",
      "3048/3048 [==============================] - 0s 102us/step - loss: 0.3315 - acc: 0.8816 - val_loss: 0.9433 - val_acc: 0.7428\n",
      "Epoch 61/100\n",
      "3048/3048 [==============================] - 0s 102us/step - loss: 0.3277 - acc: 0.8832 - val_loss: 0.8974 - val_acc: 0.7651\n",
      "Epoch 62/100\n",
      "3048/3048 [==============================] - 0s 103us/step - loss: 0.3183 - acc: 0.8855 - val_loss: 0.9281 - val_acc: 0.7769\n",
      "Epoch 63/100\n",
      "3048/3048 [==============================] - 0s 100us/step - loss: 0.3411 - acc: 0.8845 - val_loss: 0.8850 - val_acc: 0.7717\n",
      "Epoch 64/100\n",
      "3048/3048 [==============================] - 0s 100us/step - loss: 0.3190 - acc: 0.8848 - val_loss: 0.9116 - val_acc: 0.7677\n",
      "Epoch 65/100\n",
      "3048/3048 [==============================] - 0s 101us/step - loss: 0.3435 - acc: 0.8763 - val_loss: 0.8804 - val_acc: 0.7848\n",
      "Epoch 66/100\n",
      "3048/3048 [==============================] - 0s 102us/step - loss: 0.3251 - acc: 0.8780 - val_loss: 0.8732 - val_acc: 0.7690\n",
      "Epoch 67/100\n",
      "3048/3048 [==============================] - 0s 105us/step - loss: 0.3181 - acc: 0.8911 - val_loss: 0.9334 - val_acc: 0.7677\n",
      "Epoch 68/100\n",
      "3048/3048 [==============================] - 0s 101us/step - loss: 0.3119 - acc: 0.8904 - val_loss: 0.8729 - val_acc: 0.7743\n",
      "Epoch 69/100\n",
      "3048/3048 [==============================] - 0s 102us/step - loss: 0.3316 - acc: 0.8829 - val_loss: 0.9126 - val_acc: 0.7769\n",
      "Epoch 70/100\n",
      "3048/3048 [==============================] - 0s 104us/step - loss: 0.3364 - acc: 0.8809 - val_loss: 0.8871 - val_acc: 0.7664\n",
      "Epoch 71/100\n",
      "3048/3048 [==============================] - 0s 103us/step - loss: 0.3213 - acc: 0.8944 - val_loss: 0.8246 - val_acc: 0.7808\n",
      "Epoch 72/100\n",
      "3048/3048 [==============================] - 0s 102us/step - loss: 0.3129 - acc: 0.8868 - val_loss: 0.9354 - val_acc: 0.7690\n",
      "Epoch 73/100\n",
      "3048/3048 [==============================] - 0s 99us/step - loss: 0.3343 - acc: 0.8816 - val_loss: 0.8368 - val_acc: 0.7808\n",
      "Epoch 74/100\n",
      "3048/3048 [==============================] - 0s 103us/step - loss: 0.3137 - acc: 0.8894 - val_loss: 0.8826 - val_acc: 0.7664\n",
      "Epoch 75/100\n",
      "3048/3048 [==============================] - 0s 102us/step - loss: 0.3077 - acc: 0.8901 - val_loss: 0.9318 - val_acc: 0.7533\n",
      "Epoch 76/100\n",
      "3048/3048 [==============================] - 0s 100us/step - loss: 0.3064 - acc: 0.8980 - val_loss: 0.8489 - val_acc: 0.7782\n",
      "Epoch 77/100\n",
      "3048/3048 [==============================] - 0s 99us/step - loss: 0.2994 - acc: 0.8907 - val_loss: 0.8610 - val_acc: 0.7717\n",
      "Epoch 78/100\n",
      "3048/3048 [==============================] - 0s 102us/step - loss: 0.3273 - acc: 0.8799 - val_loss: 0.9594 - val_acc: 0.7533\n",
      "Epoch 79/100\n",
      "3048/3048 [==============================] - 0s 103us/step - loss: 0.3325 - acc: 0.8839 - val_loss: 0.8612 - val_acc: 0.7730\n",
      "Epoch 80/100\n",
      "3048/3048 [==============================] - 0s 105us/step - loss: 0.3170 - acc: 0.8881 - val_loss: 0.8893 - val_acc: 0.7717\n",
      "Epoch 81/100\n",
      "3048/3048 [==============================] - 0s 102us/step - loss: 0.3245 - acc: 0.8816 - val_loss: 0.8943 - val_acc: 0.7677\n",
      "Epoch 82/100\n",
      "3048/3048 [==============================] - 0s 103us/step - loss: 0.3079 - acc: 0.8898 - val_loss: 0.8729 - val_acc: 0.7822\n",
      "Epoch 83/100\n",
      "3048/3048 [==============================] - 0s 101us/step - loss: 0.3031 - acc: 0.8980 - val_loss: 0.9292 - val_acc: 0.7520\n",
      "Epoch 84/100\n",
      "3048/3048 [==============================] - 0s 103us/step - loss: 0.3209 - acc: 0.8885 - val_loss: 0.9086 - val_acc: 0.7703\n",
      "Epoch 85/100\n",
      "3048/3048 [==============================] - 0s 104us/step - loss: 0.3108 - acc: 0.8930 - val_loss: 0.9605 - val_acc: 0.7520\n",
      "Epoch 86/100\n",
      "3048/3048 [==============================] - 0s 103us/step - loss: 0.3314 - acc: 0.8819 - val_loss: 0.9122 - val_acc: 0.7625\n",
      "Epoch 87/100\n",
      "3048/3048 [==============================] - 0s 102us/step - loss: 0.3077 - acc: 0.8901 - val_loss: 0.9183 - val_acc: 0.7677\n",
      "Epoch 88/100\n",
      "3048/3048 [==============================] - 0s 102us/step - loss: 0.3106 - acc: 0.8917 - val_loss: 0.8876 - val_acc: 0.7717\n",
      "Epoch 89/100\n",
      "3048/3048 [==============================] - ETA: 0s - loss: 0.3180 - acc: 0.889 - 0s 99us/step - loss: 0.3170 - acc: 0.8891 - val_loss: 0.9064 - val_acc: 0.7572\n",
      "Epoch 90/100\n",
      "3048/3048 [==============================] - 0s 100us/step - loss: 0.3127 - acc: 0.8881 - val_loss: 0.9141 - val_acc: 0.7664\n",
      "Epoch 91/100\n",
      "3048/3048 [==============================] - 0s 103us/step - loss: 0.3152 - acc: 0.8891 - val_loss: 0.9362 - val_acc: 0.7625\n",
      "Epoch 92/100\n",
      "3048/3048 [==============================] - 0s 100us/step - loss: 0.3096 - acc: 0.8930 - val_loss: 0.9558 - val_acc: 0.7717\n",
      "Epoch 93/100\n",
      "3048/3048 [==============================] - 0s 100us/step - loss: 0.3225 - acc: 0.8885 - val_loss: 0.8852 - val_acc: 0.7730\n",
      "Epoch 94/100\n",
      "3048/3048 [==============================] - 0s 101us/step - loss: 0.2965 - acc: 0.8940 - val_loss: 0.9123 - val_acc: 0.7703\n",
      "Epoch 95/100\n",
      "3048/3048 [==============================] - 0s 101us/step - loss: 0.2898 - acc: 0.8934 - val_loss: 0.9105 - val_acc: 0.7703\n",
      "Epoch 96/100\n",
      "3048/3048 [==============================] - 0s 100us/step - loss: 0.3112 - acc: 0.8881 - val_loss: 0.9829 - val_acc: 0.7467\n",
      "Epoch 97/100\n",
      "3048/3048 [==============================] - 0s 103us/step - loss: 0.3147 - acc: 0.8868 - val_loss: 0.9379 - val_acc: 0.7651\n",
      "Epoch 98/100\n",
      "3048/3048 [==============================] - 0s 105us/step - loss: 0.3255 - acc: 0.8885 - val_loss: 0.9834 - val_acc: 0.7690\n",
      "Epoch 99/100\n",
      "3048/3048 [==============================] - 0s 100us/step - loss: 0.3177 - acc: 0.8868 - val_loss: 0.9121 - val_acc: 0.7795\n",
      "Epoch 100/100\n",
      "3048/3048 [==============================] - 0s 104us/step - loss: 0.3223 - acc: 0.8848 - val_loss: 0.8726 - val_acc: 0.7664\n"
     ]
    },
    {
     "data": {
      "text/plain": [
       "<matplotlib.legend.Legend at 0x25ec1a82ef0>"
      ]
     },
     "execution_count": 75,
     "metadata": {},
     "output_type": "execute_result"
    },
    {
     "data": {
      "image/png": "[encoded data removed]",
      "text/plain": [
       "<Figure size 432x288 with 1 Axes>"
      ]
     },
     "metadata": {
      "needs_background": "light"
     },
     "output_type": "display_data"
    }
   ],
   "source": [
    "#define hyperparams set\n",
    "best_hyperparams = {}\n",
    "best_hyperparams['hidden_layer'] = best_hyper[0]\n",
    "best_hyperparams['dropout'] = best_hyper[1]\n",
    "best_hyperparams['epoch'] = best_hyper[2]\n",
    "\n",
    "# model = None\n",
    "# model = create_model(best_hyperparams)\n",
    "history = model.fit(X, y_multiclass, validation_split=0.2, epochs=best_hyperparams['epoch'],verbose=1)\n",
    "    \n",
    "# plot loss history\n",
    "hist = history.history\n",
    "val_loss = hist['val_loss']\n",
    "loss = hist['loss']\n",
    "plt.figure()\n",
    "plt.plot(val_loss)\n",
    "plt.plot(loss)\n",
    "plt.legend(['val loss','loss'])"
   ]
  },
  {
   "cell_type": "code",
   "execution_count": 51,
   "metadata": {},
   "outputs": [
    {
     "name": "stdout",
     "output_type": "stream",
     "text": [
      "3048/3048 [==============================] - 0s 42us/step\n",
      "\n",
      "acc: 87.73%\n"
     ]
    }
   ],
   "source": [
    "# evaluate the model\n",
    "scores = model.evaluate(X_train, y_train)\n",
    "print(\"\\n%s: %.2f%%\" % (model.metrics_names[1], scores[1]*100))"
   ]
  },
  {
   "cell_type": "markdown",
   "metadata": {},
   "source": [
    "## Analysis of Results\n",
    "From the above loss plot, we see that training loss is decreasing. However, validation loss appears to plateau at about 200 epochs. Despite training for more epochs, the model does not show signs of overfitting yet. While the validation accuracy is about 74% at the 350th epoch, the test accuracy is approximately 70% - this may be a sign of overfitting."
   ]
  },
  {
   "cell_type": "markdown",
   "metadata": {},
   "source": [
    "## Kaggle submission"
   ]
  },
  {
   "cell_type": "code",
   "execution_count": 76,
   "metadata": {},
   "outputs": [],
   "source": [
    "X_test = np.loadtxt('./data/feature_extraction_kaggle.csv',delimiter=',')\n",
    "m_test = X_test.shape[0]\n",
    "# zscore_test = StandardScaler()\n",
    "# X_test = zscore_test.fit_transform(X_test) #scales each feature column\n",
    "predictions = np.argmax(model.predict(X_test),axis=1)\n",
    "idx = np.arange(m_test)\n",
    "predictions_str = encoder.inverse_transform(predictions)\n",
    "\n",
    "df_test = {'series_id':idx,\n",
    "           'surface':predictions_str\n",
    "          }\n",
    "df_test = pd.DataFrame(df_test)\n",
    "df_test.to_csv('./kaggle/kaggle.csv',index=False)\n"
   ]
  },
  {
   "cell_type": "code",
   "execution_count": 53,
   "metadata": {},
   "outputs": [
    {
     "data": {
      "text/plain": [
       "array([7, 5, 7, ..., 1, 1, 8], dtype=int64)"
      ]
     },
     "execution_count": 53,
     "metadata": {},
     "output_type": "execute_result"
    }
   ],
   "source": [
    "predictions"
   ]
  },
  {
   "cell_type": "code",
   "execution_count": null,
   "metadata": {},
   "outputs": [],
   "source": []
  }
 ],
 "metadata": {
  "kernelspec": {
   "display_name": "Python 3",
   "language": "python",
   "name": "python3"
  },
  "language_info": {
   "codemirror_mode": {
    "name": "ipython",
    "version": 3
   },
   "file_extension": ".py",
   "mimetype": "text/x-python",
   "name": "python",
   "nbconvert_exporter": "python",
   "pygments_lexer": "ipython3",
   "version": "3.6.3rc1"
  }
 },
 "nbformat": 4,
 "nbformat_minor": 2
}
