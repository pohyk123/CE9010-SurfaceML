{
 "cells": [
  {
   "cell_type": "markdown",
   "metadata": {},
   "source": [
    "# 1. Problem Description & Motivation"
   ]
  },
  {
   "cell_type": "markdown",
   "metadata": {},
   "source": [
    "Most robots are composed of 3 main parts:\n",
    "- The Controller ‐ also known as the \"brain\" which is run by a computer program.\n",
    "- Mechanical parts ‐ motors, pistons, grippers, wheels, and gears that make the robot move, grab, turn, and lift.\n",
    "- Sensors ‐ to tell the robot about its surroundings.\n",
    "\n",
    "For a robot to learn and carry out a task correctly, it needs to rely and integrate all 3 components effectively.\n",
    "In our problem, we help robots recognize the floor surface they’re standing on using data collected from Inertial Measurement Units (IMU sensors).\n",
    "*IMU sensor data* is collected while driving a small mobile robot over *different floor surfaces* on the university premises. The task is to **predict which one of the nine floor types (carpet, tiles, concrete) the robot is on using sensor data such as acceleration and velocity**."
   ]
  },
  {
   "cell_type": "markdown",
   "metadata": {},
   "source": [
    "## What is IMU?\n",
    "IMU stands for Inertial Measurement Unit, which is an electronic device that measures and reports a body's specific force, angular rate, and sometimes the magnetic field surroundings the body, using a combination of [accelerometers](https://en.wikipedia.org/wiki/Accelerometer) and [gyroscopes](https://en.wikipedia.org/wiki/Gyroscope),  sometimes also [magnetometers](https://en.wikipedia.org/wiki/Magnetometers). With these 3 incorporated sensors, the IMU measures at least 3 different types of quantities:\n",
    "1. 3D Orientation\n",
    "2. Linear Acceleration\n",
    "3. Angular Acceleration"
   ]
  },
  {
   "cell_type": "markdown",
   "metadata": {},
   "source": [
    "# 2. Data Acquisition"
   ]
  },
  {
   "cell_type": "markdown",
   "metadata": {},
   "source": [
    "The dataset that we will be using comes a [Kaggle Compeition](https://www.kaggle.com/c/career-con-2019/data)."
   ]
  },
  {
   "cell_type": "markdown",
   "metadata": {},
   "source": [
    "# 3. Data Exploration"
   ]
  },
  {
   "cell_type": "code",
   "execution_count": 7,
   "metadata": {},
   "outputs": [
    {
     "name": "stdout",
     "output_type": "stream",
     "text": [
      "X_train has 487680 rows, 13 cols.\n",
      "y_train has 3810 rows, 3 cols.\n",
      "X_test has 488448 rows, 13 cols.\n"
     ]
    }
   ],
   "source": [
    "#Import necessary libraries\n",
    "import pandas as pd\n",
    "import numpy as np\n",
    "\n",
    "#Import all data and labels\n",
    "X_train = pd.read_csv('./data/X_train.csv')\n",
    "y_train = pd.read_csv('./data/y_train.csv')\n",
    "X_test = pd.read_csv('./data/X_test.csv')\n",
    "\n",
    "print('X_train has {} rows, {} cols.'.format(X_train.shape[0],X_train.shape[1]))\n",
    "print('y_train has {} rows, {} cols.'.format(y_train.shape[0],y_train.shape[1]))\n",
    "print('X_test has {} rows, {} cols.'.format(X_test.shape[0],X_test.shape[1]))"
   ]
  },
  {
   "cell_type": "markdown",
   "metadata": {},
   "source": [
    "It seems that number of rows for X_train is different from y_train. Let us explore the data further."
   ]
  },
  {
   "cell_type": "code",
   "execution_count": 9,
   "metadata": {},
   "outputs": [
    {
     "name": "stdout",
     "output_type": "stream",
     "text": [
      "  row_id  series_id  measurement_number  orientation_X  orientation_Y  \\\n",
      "0    0_0          0                   0       -0.75853       -0.63435   \n",
      "1    0_1          0                   1       -0.75853       -0.63434   \n",
      "2    0_2          0                   2       -0.75853       -0.63435   \n",
      "3    0_3          0                   3       -0.75852       -0.63436   \n",
      "4    0_4          0                   4       -0.75852       -0.63435   \n",
      "\n",
      "   orientation_Z  orientation_W  angular_velocity_X  angular_velocity_Y  \\\n",
      "0       -0.10488       -0.10597            0.107650            0.017561   \n",
      "1       -0.10490       -0.10600            0.067851            0.029939   \n",
      "2       -0.10492       -0.10597            0.007275            0.028934   \n",
      "3       -0.10495       -0.10597           -0.013053            0.019448   \n",
      "4       -0.10495       -0.10596            0.005135            0.007652   \n",
      "\n",
      "   angular_velocity_Z  linear_acceleration_X  linear_acceleration_Y  \\\n",
      "0            0.000767               -0.74857                 2.1030   \n",
      "1            0.003385                0.33995                 1.5064   \n",
      "2           -0.005978               -0.26429                 1.5922   \n",
      "3           -0.008974                0.42684                 1.0993   \n",
      "4            0.005245               -0.50969                 1.4689   \n",
      "\n",
      "   linear_acceleration_Z  \n",
      "0                -9.7532  \n",
      "1                -9.4128  \n",
      "2                -8.7267  \n",
      "3               -10.0960  \n",
      "4               -10.4410  \n",
      "   series_id  group_id        surface\n",
      "0          0        13  fine_concrete\n",
      "1          1        31       concrete\n",
      "2          2        20       concrete\n",
      "3          3        31       concrete\n",
      "4          4        22     soft_tiles\n"
     ]
    }
   ],
   "source": [
    "print(X_train.head())\n",
    "print(y_train.head())\n",
    "https://www.kaggle.com/hiralmshah/robot-sensor-eda-feature-engg-and-prediction"
   ]
  },
  {
   "cell_type": "code",
   "execution_count": null,
   "metadata": {},
   "outputs": [],
   "source": []
  },
  {
   "cell_type": "markdown",
   "metadata": {},
   "source": [
    "# 4. Data Preprocessing"
   ]
  },
  {
   "cell_type": "code",
   "execution_count": null,
   "metadata": {},
   "outputs": [],
   "source": []
  },
  {
   "cell_type": "code",
   "execution_count": null,
   "metadata": {},
   "outputs": [],
   "source": []
  }
 ],
 "metadata": {
  "kernelspec": {
   "display_name": "Python 3",
   "language": "python",
   "name": "python3"
  },
  "language_info": {
   "codemirror_mode": {
    "name": "ipython",
    "version": 3
   },
   "file_extension": ".py",
   "mimetype": "text/x-python",
   "name": "python",
   "nbconvert_exporter": "python",
   "pygments_lexer": "ipython3",
   "version": "3.6.3rc1"
  }
 },
 "nbformat": 4,
 "nbformat_minor": 2
}
