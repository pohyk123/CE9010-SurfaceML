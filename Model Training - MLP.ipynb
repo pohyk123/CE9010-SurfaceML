{
 "cells": [
  {
   "cell_type": "markdown",
   "metadata": {},
   "source": [
    "# Deep Learning Models"
   ]
  },
  {
   "cell_type": "markdown",
   "metadata": {},
   "source": [
    "# Shallow Neural Network (Multi-Layer Perceptron)\n",
    "A multilayer Perceptron is a variant of the original Perceptron model. It has one or more hidden layers between its input and output layers, the neurons are organized in layers, the connections are always directed from lower layers to upper layers, the neurons in the same layer are not interconnected.\n",
    "\n",
    "<img src='./img/MLP.png' height=300 width=400></img>\n",
    "\n",
    "**References**\n",
    "- Ramchoun, Hassan & Amine, Mohammed & Janati Idrissi, Mohammed Amine & Ghanou, Youssef & Ettaouil, Mohamed. (2016). Multilayer Perceptron: Architecture Optimization and Training. International Journal of Interactive Multimedia and Artificial Inteligence. 4. 26-30. 10.9781/ijimai.2016.415. "
   ]
  },
  {
   "cell_type": "code",
   "execution_count": 2,
   "metadata": {},
   "outputs": [
    {
     "name": "stderr",
     "output_type": "stream",
     "text": [
      "Using TensorFlow backend.\n"
     ]
    },
    {
     "data": {
      "text/html": [
       "        <script type=\"text/javascript\">\n",
       "        window.PlotlyConfig = {MathJaxConfig: 'local'};\n",
       "        if (window.MathJax) {MathJax.Hub.Config({SVG: {font: \"STIX-Web\"}});}\n",
       "        if (typeof require !== 'undefined') {\n",
       "        require.undef(\"plotly\");\n",
       "        requirejs.config({\n",
       "            paths: {\n",
       "                'plotly': ['https://cdn.plot.ly/plotly-latest.min']\n",
       "            }\n",
       "        });\n",
       "        require(['plotly'], function(Plotly) {\n",
       "            window._Plotly = Plotly;\n",
       "        });\n",
       "        }\n",
       "        </script>\n",
       "        "
      ]
     },
     "metadata": {},
     "output_type": "display_data"
    }
   ],
   "source": [
    "from keras.models import Sequential, load_model\n",
    "from keras.layers import Dense, Input, Dropout, LSTM\n",
    "from sklearn.preprocessing import LabelEncoder, StandardScaler\n",
    "from sklearn.model_selection import train_test_split, StratifiedKFold\n",
    "from plotly.offline import download_plotlyjs, init_notebook_mode, plot, iplot\n",
    "from utils import read_pickle, write_pickle\n",
    "import plotly.graph_objs as go\n",
    "import matplotlib.pyplot as plt\n",
    "import keras\n",
    "from utils import read_pickle, write_pickle\n",
    "import numpy as np\n",
    "import pandas as pd\n",
    "\n",
    "init_notebook_mode(connected=True)\n",
    "np.random.seed(42)"
   ]
  },
  {
   "cell_type": "markdown",
   "metadata": {},
   "source": [
    "## Import data sources\n",
    "We import crafted features from previous preprocessing steps."
   ]
  },
  {
   "cell_type": "code",
   "execution_count": 2,
   "metadata": {},
   "outputs": [
    {
     "name": "stdout",
     "output_type": "stream",
     "text": [
      "X shape: (3810, 81) <class 'numpy.ndarray'>\n",
      "y shape: (3810, 3) <class 'numpy.ndarray'>\n"
     ]
    }
   ],
   "source": [
    "# import data\n",
    "X = np.loadtxt('./data/feature_extraction.csv',delimiter=',')\n",
    "y_ = pd.read_csv('./data/y_train.csv').values # remove headers\n",
    "print('X shape:',X.shape,type(X))\n",
    "print('y shape:',y_.shape,type(y_))\n",
    "\n",
    "m = X.shape[0]"
   ]
  },
  {
   "cell_type": "markdown",
   "metadata": {},
   "source": [
    "## Normalise features for better training outcomes"
   ]
  },
  {
   "cell_type": "code",
   "execution_count": 3,
   "metadata": {},
   "outputs": [
    {
     "name": "stdout",
     "output_type": "stream",
     "text": [
      "Before scaling:\n",
      "[[-2.48068359e-03 -3.30602998e-03  7.53164633e-03  2.63418294e-01\n",
      "   2.98419490e+00]\n",
      " [ 4.60476531e-03 -7.75678062e-03  6.20627750e-03  1.21867458e-01\n",
      "   2.76819294e+00]\n",
      " [ 2.64566328e-03 -9.23168299e-03  2.79891515e-02  1.49711430e-01\n",
      "   2.88674457e+00]\n",
      " [ 6.23955469e-04 -2.80411156e-03  7.88664279e-03  2.01790516e-01\n",
      "   2.65792233e+00]\n",
      " [ 6.96887805e-03  4.61085891e-02 -1.42385063e-01 -8.61712500e-02\n",
      "   2.98149789e+00]]\n",
      "After scaling:\n",
      "[[-2.55876182e-01 -1.70952273e-01  1.22095825e-01  7.10781449e-01\n",
      "   3.93302213e-01]\n",
      " [ 4.26164177e-01 -2.36298506e-01  1.16038537e-01 -3.92834696e-02\n",
      "  -4.75995845e-01]\n",
      " [ 2.37582385e-01 -2.57953126e-01  2.15592055e-01  1.08259186e-01\n",
      "   1.11418768e-03]\n",
      " [ 4.29742040e-02 -1.63583072e-01  1.23718253e-01  3.84221499e-01\n",
      "  -9.19779004e-01]\n",
      " [ 6.53732016e-01  5.54556629e-01 -5.63063337e-01 -1.14166154e+00\n",
      "   3.82448128e-01]]\n"
     ]
    }
   ],
   "source": [
    "print('Before scaling:')\n",
    "print(X[0:5,0:5])\n",
    "zscore = StandardScaler()\n",
    "X = zscore.fit_transform(X) #scales each feature column\n",
    "print('After scaling:')\n",
    "print(X[0:5,0:5])"
   ]
  },
  {
   "cell_type": "markdown",
   "metadata": {},
   "source": [
    "## Encoding of y labels\n",
    "While it is necessary to do one-hot encoding of labels, the tools we use here do not require OHE. StratifiedKFold directly uses the class number without requiring one-hot encoding. Similarly by using sparse_categorical_crossentropy as our model loss, we can directly use the class number. However we still need to convert class in string format into number format."
   ]
  },
  {
   "cell_type": "code",
   "execution_count": 4,
   "metadata": {},
   "outputs": [
    {
     "name": "stdout",
     "output_type": "stream",
     "text": [
      "y_multiclass shape: (3810,)\n",
      "Encoded classes: ['0:carpet', '1:concrete', '2:fine_concrete', '3:hard_tiles', '4:hard_tiles_large_space', '5:soft_pvc', '6:soft_tiles', '7:tiled', '8:wood']\n"
     ]
    }
   ],
   "source": [
    "y = y_[:,-1] # last column is the y label\n",
    "\n",
    "encoder = LabelEncoder()\n",
    "y_multiclass = encoder.fit_transform(y)\n",
    "print('y_multiclass shape:',y_multiclass.shape)\n",
    "print('Encoded classes:',['{}:{}'.format(tup[0],tup[1]) for tup in enumerate(encoder.classes_)])"
   ]
  },
  {
   "cell_type": "markdown",
   "metadata": {},
   "source": [
    "## Determine each set of hyperparameters for K-fold evaluation\n",
    "In our model, we shall attempt to find the best of hyperparameters. The tunable hyperparameters are:\n",
    "- Number of Neurons in hidden layer 1\n",
    "- Dropout value (post-activation at hidden layer 1)\n",
    "- Epochs for training\n",
    "\n",
    "In Keras we can also see the validation accuracy on every epoch."
   ]
  },
  {
   "cell_type": "code",
   "execution_count": 9,
   "metadata": {},
   "outputs": [],
   "source": [
    "hidden_neurons = [150,300,500]\n",
    "dropouts = [0.1,0.25,0.5]\n",
    "epochs = [30,60,100]"
   ]
  },
  {
   "cell_type": "markdown",
   "metadata": {},
   "source": [
    "## Create Model\n",
    "We create a hidden layer with 50 neurons."
   ]
  },
  {
   "cell_type": "code",
   "execution_count": 10,
   "metadata": {},
   "outputs": [],
   "source": [
    "def create_model(hyperparams):\n",
    "    # Create shallow NN model\n",
    "    input_dim = X.shape[1]\n",
    "    output_dim = len(encoder.classes_) # number of classes \n",
    "    hidden_dim_1 = hyperparams['hidden_layer']\n",
    "    hidden_dim_2 = output_dim*5\n",
    "\n",
    "    model = Sequential()\n",
    "    model.add(Dense(hidden_dim_1, input_dim=input_dim, activation='relu'))\n",
    "    model.add(Dropout(hyperparams['dropout']))\n",
    "    model.add(Dense(hidden_dim_2, activation='relu'))\n",
    "    model.add(Dense(output_dim, activation='softmax'))\n",
    "\n",
    "#     model.summary()\n",
    "    model.compile(loss='sparse_categorical_crossentropy', optimizer='adam', metrics=['accuracy'])\n",
    "    \n",
    "    return model"
   ]
  },
  {
   "cell_type": "markdown",
   "metadata": {},
   "source": [
    "## Split Train-Test Set for later evaluation"
   ]
  },
  {
   "cell_type": "code",
   "execution_count": 11,
   "metadata": {},
   "outputs": [],
   "source": [
    "X_train, X_test, y_train, y_test = train_test_split(X, y_multiclass, test_size=0.2)"
   ]
  },
  {
   "cell_type": "markdown",
   "metadata": {},
   "source": [
    "## Train the model and evaluate each set of hyperparameters using K-Fold Cross Validation\n",
    "As defined earlier, we will create various permutations of hyperparameters. Since there are 3 possible options for each adjustable hyperparameter, we will obtain a total of 27 possible cases."
   ]
  },
  {
   "cell_type": "code",
   "execution_count": 12,
   "metadata": {},
   "outputs": [
    {
     "name": "stdout",
     "output_type": "stream",
     "text": [
      "Model hidden neurons = 150, dropout rate = 0.1, # epochs = 30\n",
      "Training on fold 1/5...\n",
      "Last training accuracy: 0.7967980295566502, last validation accuracy: 0.6879084967320261\n",
      "Training on fold 2/5...\n",
      "Last training accuracy: 0.8034468608945424, last validation accuracy: 0.6792144027162106\n",
      "Training on fold 3/5...\n",
      "Last training accuracy: 0.7932731747822843, last validation accuracy: 0.7229508196721312\n",
      "Training on fold 4/5...\n",
      "Last training accuracy: 0.7893442622950819, last validation accuracy: 0.694078947368421\n",
      "Training on fold 5/5...\n",
      "Last training accuracy: 0.7836952069312615, last validation accuracy: 0.6820428325277577\n",
      "Average Loss: 1.1126858926683298\n",
      "Model hidden neurons = 150, dropout rate = 0.1, # epochs = 60\n",
      "Training on fold 1/5...\n",
      "Last training accuracy: 0.8908045977011494, last validation accuracy: 0.738562091503268\n",
      "Training on fold 2/5...\n",
      "Last training accuracy: 0.8801805498563808, last validation accuracy: 0.736497545105736\n",
      "Training on fold 3/5...\n",
      "Last training accuracy: 0.8851517637407711, last validation accuracy: 0.7065573770491803\n",
      "Training on fold 4/5...\n",
      "Last training accuracy: 0.8766393442622951, last validation accuracy: 0.71875\n",
      "Training on fold 5/5...\n",
      "Last training accuracy: 0.8824252355836152, last validation accuracy: 0.7084019773285314\n",
      "Average Loss: 1.0375579205668457\n",
      "Model hidden neurons = 150, dropout rate = 0.1, # epochs = 100\n",
      "Training on fold 1/5...\n",
      "Last training accuracy: 0.9326765188834154, last validation accuracy: 0.7254901960784313\n",
      "Training on fold 2/5...\n",
      "Last training accuracy: 0.9228559704554781, last validation accuracy: 0.6955810148275036\n",
      "Training on fold 3/5...\n",
      "Last training accuracy: 0.9265791632485644, last validation accuracy: 0.7327868852459016\n",
      "Training on fold 4/5...\n",
      "Last training accuracy: 0.930327868852459, last validation accuracy: 0.7269736842105263\n",
      "Training on fold 5/5...\n",
      "Last training accuracy: 0.9299467431380581, last validation accuracy: 0.7512355852362744\n",
      "Average Loss: 1.05446616426139\n",
      "Model hidden neurons = 150, dropout rate = 0.25, # epochs = 30\n",
      "Training on fold 1/5...\n",
      "Last training accuracy: 0.7528735632183908, last validation accuracy: 0.6650326797385621\n",
      "Training on fold 2/5...\n",
      "Last training accuracy: 0.7451784981779256, last validation accuracy: 0.6939443536163742\n",
      "Training on fold 3/5...\n",
      "Last training accuracy: 0.7358490566037735, last validation accuracy: 0.7098360655737705\n",
      "Training on fold 4/5...\n",
      "Last training accuracy: 0.7459016393442623, last validation accuracy: 0.6644736842105263\n",
      "Training on fold 5/5...\n",
      "Last training accuracy: 0.7451863991144689, last validation accuracy: 0.6869851734728554\n",
      "Average Loss: 1.1261999947137493\n",
      "Model hidden neurons = 150, dropout rate = 0.25, # epochs = 60\n",
      "Training on fold 1/5...\n",
      "Last training accuracy: 0.8197865353037767, last validation accuracy: 0.7140522875816994\n",
      "Training on fold 2/5...\n",
      "Last training accuracy: 0.8198604842018876, last validation accuracy: 0.7266775777414075\n",
      "Training on fold 3/5...\n",
      "Last training accuracy: 0.8154224773916287, last validation accuracy: 0.7131147540983607\n",
      "Training on fold 4/5...\n",
      "Last training accuracy: 0.819672131147541, last validation accuracy: 0.7088815789473685\n",
      "Training on fold 5/5...\n",
      "Last training accuracy: 0.8365424006798872, last validation accuracy: 0.7067545310669322\n",
      "Average Loss: 1.0269097483586815\n",
      "Model hidden neurons = 150, dropout rate = 0.25, # epochs = 100\n",
      "Training on fold 1/5...\n",
      "Last training accuracy: 0.8846469622331691, last validation accuracy: 0.704248366013072\n",
      "Training on fold 2/5...\n",
      "Last training accuracy: 0.8818219121871153, last validation accuracy: 0.7495908346972177\n",
      "Training on fold 3/5...\n",
      "Last training accuracy: 0.8728465955701394, last validation accuracy: 0.7\n",
      "Training on fold 4/5...\n",
      "Last training accuracy: 0.8786885245901639, last validation accuracy: 0.7384868421052632\n",
      "Training on fold 5/5...\n",
      "Last training accuracy: 0.8652191725191353, last validation accuracy: 0.7413509048190109\n",
      "Average Loss: 1.0134893245239103\n",
      "Model hidden neurons = 150, dropout rate = 0.5, # epochs = 30\n",
      "Training on fold 1/5...\n",
      "Last training accuracy: 0.6580459770114943, last validation accuracy: 0.6372549019607843\n",
      "Training on fold 2/5...\n",
      "Last training accuracy: 0.6672137874435782, last validation accuracy: 0.6202945991155558\n",
      "Training on fold 3/5...\n",
      "Last training accuracy: 0.6583264971776904, last validation accuracy: 0.6639344262295082\n",
      "Training on fold 4/5...\n",
      "Last training accuracy: 0.660655737704918, last validation accuracy: 0.6529605263157895\n",
      "Training on fold 5/5...\n",
      "Last training accuracy: 0.6575174109460096, last validation accuracy: 0.6754530465976017\n",
      "Average Loss: 1.2007204400025842\n",
      "Model hidden neurons = 150, dropout rate = 0.5, # epochs = 60\n",
      "Training on fold 1/5...\n",
      "Last training accuracy: 0.7298850574712644, last validation accuracy: 0.6944444444444444\n",
      "Training on fold 2/5...\n",
      "Last training accuracy: 0.730406237201315, last validation accuracy: 0.6841243863495985\n",
      "Training on fold 3/5...\n",
      "Last training accuracy: 0.7251845775714558, last validation accuracy: 0.6967213114754098\n",
      "Training on fold 4/5...\n",
      "Last training accuracy: 0.7340163934426229, last validation accuracy: 0.712171052631579\n",
      "Training on fold 5/5...\n",
      "Last training accuracy: 0.7251126587464154, last validation accuracy: 0.7084019773285314\n",
      "Average Loss: 1.0796843085267878\n",
      "Model hidden neurons = 150, dropout rate = 0.5, # epochs = 100\n",
      "Training on fold 1/5...\n",
      "Last training accuracy: 0.7717569786535303, last validation accuracy: 0.7026143790849673\n",
      "Training on fold 2/5...\n",
      "Last training accuracy: 0.7796471070988921, last validation accuracy: 0.7152209493610551\n",
      "Training on fold 3/5...\n",
      "Last training accuracy: 0.7932731747822843, last validation accuracy: 0.7655737704918033\n",
      "Training on fold 4/5...\n",
      "Last training accuracy: 0.7807377049180327, last validation accuracy: 0.7072368421052632\n",
      "Training on fold 5/5...\n",
      "Last training accuracy: 0.7660794756491621, last validation accuracy: 0.7462932442911767\n",
      "Average Loss: 1.0061412179480962\n",
      "Model hidden neurons = 300, dropout rate = 0.1, # epochs = 30\n",
      "Training on fold 1/5...\n",
      "Last training accuracy: 0.8407224958949097, last validation accuracy: 0.7222222222222222\n",
      "Training on fold 2/5...\n",
      "Last training accuracy: 0.848173984431516, last validation accuracy: 0.7135842880523732\n",
      "Training on fold 3/5...\n",
      "Last training accuracy: 0.854388843314192, last validation accuracy: 0.7114754098360656\n",
      "Training on fold 4/5...\n",
      "Last training accuracy: 0.8590163934426229, last validation accuracy: 0.694078947368421\n",
      "Training on fold 5/5...\n",
      "Last training accuracy: 0.8611224908068843, last validation accuracy: 0.6985172972058543\n",
      "Average Loss: 1.081671997988171\n",
      "Model hidden neurons = 300, dropout rate = 0.1, # epochs = 60\n",
      "Training on fold 1/5...\n",
      "Last training accuracy: 0.9285714285714286, last validation accuracy: 0.7516339869281046\n",
      "Training on fold 2/5...\n",
      "Last training accuracy: 0.9277800574721398, last validation accuracy: 0.70376432088315\n",
      "Training on fold 3/5...\n",
      "Last training accuracy: 0.9159146841673503, last validation accuracy: 0.7049180327868853\n",
      "Training on fold 4/5...\n",
      "Last training accuracy: 0.9266393442622951, last validation accuracy: 0.7236842105263158\n",
      "Training on fold 5/5...\n",
      "Last training accuracy: 0.9299467431380581, last validation accuracy: 0.7199341028290486\n",
      "Average Loss: 1.0578804472096937\n",
      "Model hidden neurons = 300, dropout rate = 0.1, # epochs = 100\n",
      "Training on fold 1/5...\n",
      "Last training accuracy: 0.9655172413793104, last validation accuracy: 0.6977124183006536\n",
      "Training on fold 2/5...\n",
      "Last training accuracy: 0.9614279852521972, last validation accuracy: 0.7495908347947703\n",
      "Training on fold 3/5...\n",
      "Last training accuracy: 0.9470877769151802, last validation accuracy: 0.7081967213114754\n",
      "Training on fold 4/5...\n",
      "Last training accuracy: 0.9676229508196721, last validation accuracy: 0.7351973684210527\n",
      "Training on fold 5/5...\n",
      "Last training accuracy: 0.9729619008847212, last validation accuracy: 0.742998351277001\n",
      "Average Loss: 1.1280056242722125\n",
      "Model hidden neurons = 300, dropout rate = 0.25, # epochs = 30\n",
      "Training on fold 1/5...\n",
      "Last training accuracy: 0.805008210180624, last validation accuracy: 0.6764705882352942\n",
      "Training on fold 2/5...\n",
      "Last training accuracy: 0.794009027492819, last validation accuracy: 0.6841243862520459\n",
      "Training on fold 3/5...\n"
     ]
    },
    {
     "name": "stdout",
     "output_type": "stream",
     "text": [
      "Last training accuracy: 0.8051681705827689, last validation accuracy: 0.7131147540983607\n",
      "Training on fold 4/5...\n",
      "Last training accuracy: 0.8045081967213115, last validation accuracy: 0.6973684210526315\n",
      "Training on fold 5/5...\n",
      "Last training accuracy: 0.817287996795909, last validation accuracy: 0.6886326182615227\n",
      "Average Loss: 1.069410482920408\n",
      "Model hidden neurons = 300, dropout rate = 0.25, # epochs = 60\n",
      "Training on fold 1/5...\n",
      "Last training accuracy: 0.8842364532019704, last validation accuracy: 0.7222222222222222\n",
      "Training on fold 2/5...\n",
      "Last training accuracy: 0.888797702092737, last validation accuracy: 0.7201309329456667\n",
      "Training on fold 3/5...\n",
      "Last training accuracy: 0.8872026251025431, last validation accuracy: 0.7180327868852459\n",
      "Training on fold 4/5...\n",
      "Last training accuracy: 0.8774590163934426, last validation accuracy: 0.7220394736842105\n",
      "Training on fold 5/5...\n",
      "Last training accuracy: 0.8861122491026647, last validation accuracy: 0.7265238867952953\n",
      "Average Loss: 1.0425717298368462\n",
      "Model hidden neurons = 300, dropout rate = 0.25, # epochs = 100\n",
      "Training on fold 1/5...\n",
      "Last training accuracy: 0.9232348111658456, last validation accuracy: 0.7565359477124183\n",
      "Training on fold 2/5...\n",
      "Last training accuracy: 0.9281903980303652, last validation accuracy: 0.7463175123725116\n",
      "Training on fold 3/5...\n",
      "Last training accuracy: 0.9347826086956522, last validation accuracy: 0.7557377049180328\n",
      "Training on fold 4/5...\n",
      "Last training accuracy: 0.9413934426229508, last validation accuracy: 0.6907894736842105\n",
      "Training on fold 5/5...\n",
      "Last training accuracy: 0.9389594428512904, last validation accuracy: 0.7380560120994216\n",
      "Average Loss: 1.0782081647169166\n",
      "Model hidden neurons = 300, dropout rate = 0.5, # epochs = 30\n",
      "Training on fold 1/5...\n",
      "Last training accuracy: 0.7245484400656814, last validation accuracy: 0.6830065359477124\n",
      "Training on fold 2/5...\n",
      "Last training accuracy: 0.7299958966430896, last validation accuracy: 0.6792144027162106\n",
      "Training on fold 3/5...\n",
      "Last training accuracy: 0.7223133716649751, last validation accuracy: 0.6885245901639344\n",
      "Training on fold 4/5...\n",
      "Last training accuracy: 0.7110655737704918, last validation accuracy: 0.6726973684210527\n",
      "Training on fold 5/5...\n",
      "Last training accuracy: 0.7165096272263846, last validation accuracy: 0.678747939317191\n",
      "Average Loss: 1.1268930121740401\n",
      "Model hidden neurons = 300, dropout rate = 0.5, # epochs = 60\n",
      "Training on fold 1/5...\n",
      "Last training accuracy: 0.7865353037766831, last validation accuracy: 0.7254901960784313\n",
      "Training on fold 2/5...\n",
      "Last training accuracy: 0.7931883463519099, last validation accuracy: 0.6955810147299509\n",
      "Training on fold 3/5...\n",
      "Last training accuracy: 0.7981952419527444, last validation accuracy: 0.6983606557377049\n",
      "Training on fold 4/5...\n",
      "Last training accuracy: 0.794672131147541, last validation accuracy: 0.694078947368421\n",
      "Training on fold 5/5...\n",
      "Last training accuracy: 0.7980335928142583, last validation accuracy: 0.7018121899254436\n",
      "Average Loss: 1.0519513716266846\n",
      "Model hidden neurons = 300, dropout rate = 0.5, # epochs = 100\n",
      "Training on fold 1/5...\n",
      "Last training accuracy: 0.8526272577996716, last validation accuracy: 0.7565359477124183\n",
      "Training on fold 2/5...\n",
      "Last training accuracy: 0.8489946655846542, last validation accuracy: 0.7414075286415712\n",
      "Training on fold 3/5...\n",
      "Last training accuracy: 0.8736669400659519, last validation accuracy: 0.719672131147541\n",
      "Training on fold 4/5...\n",
      "Last training accuracy: 0.860655737704918, last validation accuracy: 0.7549342105263158\n",
      "Training on fold 5/5...\n",
      "Last training accuracy: 0.8541581319131504, last validation accuracy: 0.7199341025344622\n",
      "Average Loss: 0.9736789880662522\n",
      "Model hidden neurons = 500, dropout rate = 0.1, # epochs = 30\n",
      "Training on fold 1/5...\n",
      "Last training accuracy: 0.8825944170771757, last validation accuracy: 0.6977124183006536\n",
      "Training on fold 2/5...\n",
      "Last training accuracy: 0.8785391875256463, last validation accuracy: 0.6710310966117877\n",
      "Training on fold 3/5...\n",
      "Last training accuracy: 0.8785890073342045, last validation accuracy: 0.6983606557377049\n",
      "Training on fold 4/5...\n",
      "Last training accuracy: 0.8823770491803279, last validation accuracy: 0.7368421052631579\n",
      "Training on fold 5/5...\n",
      "Last training accuracy: 0.8770995493894325, last validation accuracy: 0.7067545307723458\n",
      "Average Loss: 1.0614281628669777\n",
      "Model hidden neurons = 500, dropout rate = 0.1, # epochs = 60\n",
      "Training on fold 1/5...\n",
      "Last training accuracy: 0.9556650246305419, last validation accuracy: 0.7205882352941176\n",
      "Training on fold 2/5...\n",
      "Last training accuracy: 0.957324579425361, last validation accuracy: 0.7381342063168652\n",
      "Training on fold 3/5...\n",
      "Last training accuracy: 0.9397046759150085, last validation accuracy: 0.7114754098360656\n",
      "Training on fold 4/5...\n",
      "Last training accuracy: 0.9590163934426229, last validation accuracy: 0.7039473684210527\n",
      "Training on fold 5/5...\n",
      "Last training accuracy: 0.9659975419909873, last validation accuracy: 0.7199341010615303\n",
      "Average Loss: 1.1099305306926301\n",
      "Model hidden neurons = 500, dropout rate = 0.1, # epochs = 100\n",
      "Training on fold 1/5...\n",
      "Last training accuracy: 0.9474548440065681, last validation accuracy: 0.7434640522875817\n",
      "Training on fold 2/5...\n",
      "Last training accuracy: 0.9839967172753386, last validation accuracy: 0.6972176760386328\n",
      "Training on fold 3/5...\n",
      "Last training accuracy: 0.9799015586057386, last validation accuracy: 0.7229508196721312\n",
      "Training on fold 4/5...\n",
      "Last training accuracy: 0.9627049180327869, last validation accuracy: 0.7417763157894737\n",
      "Training on fold 5/5...\n",
      "Last training accuracy: 0.9840229414174518, last validation accuracy: 0.7215815491888433\n",
      "Average Loss: 1.219735871361072\n",
      "Model hidden neurons = 500, dropout rate = 0.25, # epochs = 30\n",
      "Training on fold 1/5...\n",
      "Last training accuracy: 0.8357963875205254, last validation accuracy: 0.6993464052287581\n",
      "Training on fold 2/5...\n",
      "Last training accuracy: 0.843660237997538, last validation accuracy: 0.6939443536163742\n",
      "Training on fold 3/5...\n",
      "Last training accuracy: 0.8334700574241182, last validation accuracy: 0.739344262295082\n",
      "Training on fold 4/5...\n",
      "Last training accuracy: 0.8413934426229508, last validation accuracy: 0.6858552631578947\n",
      "Training on fold 5/5...\n",
      "Last training accuracy: 0.8418680869473243, last validation accuracy: 0.7215815489924523\n",
      "Average Loss: 1.059597233131669\n",
      "Model hidden neurons = 500, dropout rate = 0.25, # epochs = 60\n",
      "Training on fold 1/5...\n",
      "Last training accuracy: 0.9215927750410509, last validation accuracy: 0.7418300653594772\n",
      "Training on fold 2/5...\n",
      "Last training accuracy: 0.925318013976038, last validation accuracy: 0.7250409166278309\n",
      "Training on fold 3/5...\n",
      "Last training accuracy: 0.9097621000820345, last validation accuracy: 0.7508196721311475\n",
      "Training on fold 4/5...\n",
      "Last training accuracy: 0.9155737704918033, last validation accuracy: 0.7006578947368421\n",
      "Training on fold 5/5...\n",
      "Last training accuracy: 0.9266693977877919, last validation accuracy: 0.7364085672125589\n",
      "Average Loss: 1.0308809757680832\n",
      "Model hidden neurons = 500, dropout rate = 0.25, # epochs = 100\n",
      "Training on fold 1/5...\n",
      "Last training accuracy: 0.9523809523809523, last validation accuracy: 0.7483660130718954\n",
      "Training on fold 2/5...\n",
      "Last training accuracy: 0.9347558473533032, last validation accuracy: 0.707037643207856\n",
      "Training on fold 3/5...\n",
      "Last training accuracy: 0.9598031173092699, last validation accuracy: 0.6918032786885245\n",
      "Training on fold 4/5...\n",
      "Last training accuracy: 0.9532786885245902, last validation accuracy: 0.756578947368421\n",
      "Training on fold 5/5...\n",
      "Last training accuracy: 0.958213846808523, last validation accuracy: 0.7364085669179725\n",
      "Average Loss: 1.0859717775268722\n",
      "Model hidden neurons = 500, dropout rate = 0.5, # epochs = 30\n",
      "Training on fold 1/5...\n",
      "Last training accuracy: 0.7536945812807881, last validation accuracy: 0.6911764705882353\n",
      "Training on fold 2/5...\n",
      "Last training accuracy: 0.7431267952400492, last validation accuracy: 0.7021276595744681\n",
      "Training on fold 3/5...\n",
      "Last training accuracy: 0.7629204266280596, last validation accuracy: 0.6622950819672131\n",
      "Training on fold 4/5...\n",
      "Last training accuracy: 0.7610655737704918, last validation accuracy: 0.7138157894736842\n",
      "Training on fold 5/5...\n",
      "Last training accuracy: 0.7394510447270848, last validation accuracy: 0.7018121915947664\n",
      "Average Loss: 1.0957214701662334\n",
      "Model hidden neurons = 500, dropout rate = 0.5, # epochs = 60\n",
      "Training on fold 1/5...\n"
     ]
    },
    {
     "name": "stdout",
     "output_type": "stream",
     "text": [
      "Last training accuracy: 0.8427750410509032, last validation accuracy: 0.7075163398692811\n",
      "Training on fold 2/5...\n",
      "Last training accuracy: 0.8370947887235163, last validation accuracy: 0.7135842880523732\n",
      "Training on fold 3/5...\n",
      "Last training accuracy: 0.837161607924204, last validation accuracy: 0.7245901639344262\n",
      "Training on fold 4/5...\n",
      "Last training accuracy: 0.8430327868852459, last validation accuracy: 0.7549342105263158\n",
      "Training on fold 5/5...\n",
      "Last training accuracy: 0.8488324457678039, last validation accuracy: 0.7281713332532854\n",
      "Average Loss: 1.010669154741661\n",
      "Model hidden neurons = 500, dropout rate = 0.5, # epochs = 100\n",
      "Training on fold 1/5...\n",
      "Last training accuracy: 0.9006568144499179, last validation accuracy: 0.7271241830065359\n",
      "Training on fold 2/5...\n",
      "Last training accuracy: 0.8916700862204388, last validation accuracy: 0.7430441899502531\n",
      "Training on fold 3/5...\n",
      "Last training accuracy: 0.8892534864154187, last validation accuracy: 0.6852459016393443\n",
      "Training on fold 4/5...\n",
      "Last training accuracy: 0.8979508196721312, last validation accuracy: 0.7351973684210527\n",
      "Training on fold 5/5...\n",
      "Last training accuracy: 0.9086439984101635, last validation accuracy: 0.7314662262674612\n",
      "Average Loss: 1.0169204950257915\n"
     ]
    }
   ],
   "source": [
    "kfold_splits = 5\n",
    "\n",
    "# Instantiate the cross validator\n",
    "skf = StratifiedKFold(n_splits=kfold_splits, shuffle=True)\n",
    "\n",
    "val_loss_all = {}\n",
    "\n",
    "# Enumerate over all possible combos\n",
    "for i,neurons in enumerate(hidden_neurons):\n",
    "    for j,dropout in enumerate(dropouts):\n",
    "        for k,epoch in enumerate(epochs):\n",
    "            print('Model hidden neurons = {}, dropout rate = {}, # epochs = {}'.format(neurons,dropout,epoch))\n",
    "        \n",
    "            val_loss_kfold = []\n",
    "\n",
    "            # Loop through the indices the split() method returns\n",
    "            for index, (train_indices, val_indices) in enumerate(skf.split(X_train, y_train)):\n",
    "                print(\"Training on fold \" + str(index+1) + \"/{}...\".format(kfold_splits))\n",
    "\n",
    "                # Generate batches from indices\n",
    "                xtrain, xval = X[train_indices], X[val_indices]\n",
    "                ytrain, yval = y_multiclass[train_indices], y_multiclass[val_indices]\n",
    "\n",
    "                #define hyperparams set\n",
    "                hyperparams = {}\n",
    "                hyperparams['hidden_layer'] = neurons\n",
    "                hyperparams['dropout'] = dropout\n",
    "                hyperparams['epoch'] = epoch\n",
    "\n",
    "                # Clear model, and create it\n",
    "                model = None\n",
    "                model = create_model(hyperparams)\n",
    "\n",
    "                history = model.fit(xtrain, ytrain, epochs=hyperparams['epoch'], validation_data=(xval,yval),verbose=0)\n",
    "\n",
    "                hist = history.history\n",
    "                val_loss = hist['val_loss']\n",
    "                loss = hist['loss']\n",
    "\n",
    "                # for choosing best val acc\n",
    "                val_loss_kfold.append(hist['val_loss'])\n",
    "                print(\"Last training accuracy: \" + str(hist['acc'][-1]) + \", last validation accuracy: \" + str(hist['val_acc'][-1]))\n",
    "\n",
    "            print('Average Loss: {}'.format(np.mean(val_loss_kfold)))\n",
    "            val_loss_all[(neurons,dropout,epoch)] = np.mean(val_loss_kfold)\n",
    "    \n",
    "    "
   ]
  },
  {
   "cell_type": "code",
   "execution_count": 14,
   "metadata": {},
   "outputs": [],
   "source": [
    "# convert dict of validation losses to 3d coordinate format + value\n",
    "heatmap_3d = np.zeros([0,4])\n",
    "for key,value in val_loss_all.items():\n",
    "    heatmap_3d = np.vstack((heatmap_3d,[hidden_neurons.index(key[0]),dropouts.index(key[1]),epochs.index(key[2]),value]))"
   ]
  },
  {
   "cell_type": "markdown",
   "metadata": {},
   "source": [
    "## Visualise the best hyperparameter selection\n",
    "In the diagram, we want to visualise the losses in a 3d space, allowing us to quickly draw trends or get the lowest/highest losses. Drag & hold to visualise the 3d heatmap from different angles."
   ]
  },
  {
   "cell_type": "code",
   "execution_count": 15,
   "metadata": {},
   "outputs": [
    {
     "data": {
      "application/vnd.plotly.v1+json": {
       "config": {
        "linkText": "Export to plot.ly",
        "plotlyServerURL": "https://plot.ly",
        "showLink": false
       },
       "data": [
        {
         "marker": {
          "color": [
           1.1126858926683298,
           1.0375579205668457,
           1.05446616426139,
           1.1261999947137493,
           1.0269097483586815,
           1.0134893245239103,
           1.2007204400025842,
           1.0796843085267878,
           1.0061412179480962,
           1.081671997988171,
           1.0578804472096937,
           1.1280056242722125,
           1.069410482920408,
           1.0425717298368462,
           1.0782081647169166,
           1.1268930121740401,
           1.0519513716266846,
           0.9736789880662522,
           1.0614281628669777,
           1.1099305306926301,
           1.219735871361072,
           1.059597233131669,
           1.0308809757680832,
           1.0859717775268722,
           1.0957214701662334,
           1.010669154741661,
           1.0169204950257915
          ],
          "colorscale": "Viridis",
          "opacity": 0.8,
          "showscale": true,
          "size": 24
         },
         "mode": "markers",
         "type": "scatter3d",
         "uid": "59821f43-a250-4779-b39b-9ba1c12c3b01",
         "x": [
          0,
          0,
          0,
          0,
          0,
          0,
          0,
          0,
          0,
          1,
          1,
          1,
          1,
          1,
          1,
          1,
          1,
          1,
          2,
          2,
          2,
          2,
          2,
          2,
          2,
          2,
          2
         ],
         "y": [
          0,
          0,
          0,
          1,
          1,
          1,
          2,
          2,
          2,
          0,
          0,
          0,
          1,
          1,
          1,
          2,
          2,
          2,
          0,
          0,
          0,
          1,
          1,
          1,
          2,
          2,
          2
         ],
         "z": [
          0,
          1,
          2,
          0,
          1,
          2,
          0,
          1,
          2,
          0,
          1,
          2,
          0,
          1,
          2,
          0,
          1,
          2,
          0,
          1,
          2,
          0,
          1,
          2,
          0,
          1,
          2
         ]
        }
       ],
       "layout": {
        "height": 800,
        "scene": {
         "xaxis": {
          "nticks": 3,
          "ticktext": [
           150,
           300,
           500
          ],
          "tickvals": [
           0,
           1,
           2
          ],
          "title": {
           "text": "# Hidden Neurons"
          }
         },
         "yaxis": {
          "nticks": 3,
          "ticktext": [
           0.1,
           0.25,
           0.5
          ],
          "tickvals": [
           0,
           1,
           2
          ],
          "title": {
           "text": "Dropout Rate"
          }
         },
         "zaxis": {
          "nticks": 3,
          "ticktext": [
           30,
           60,
           100
          ],
          "tickvals": [
           0,
           1,
           2
          ],
          "title": {
           "text": "# Epochs"
          }
         }
        },
        "title": {
         "text": "Validation Loss"
        },
        "width": 800
       }
      },
      "text/html": [
       "<div>\n",
       "        \n",
       "        \n",
       "            <div id=\"2dae8bb7-ad5d-4ea7-8122-18e18864e7ea\" class=\"plotly-graph-div\"></div>\n",
       "            <script type=\"text/javascript\">\n",
       "                require([\"plotly\"], function(Plotly) {\n",
       "                    window.PLOTLYENV=window.PLOTLYENV || {};\n",
       "                    window.PLOTLYENV.BASE_URL='https://plot.ly';\n",
       "                    \n",
       "                if (document.getElementById(\"2dae8bb7-ad5d-4ea7-8122-18e18864e7ea\")) {\n",
       "                    Plotly.newPlot(\n",
       "                        '2dae8bb7-ad5d-4ea7-8122-18e18864e7ea',\n",
       "                        [{\"marker\": {\"color\": [1.1126858926683298, 1.0375579205668457, 1.05446616426139, 1.1261999947137493, 1.0269097483586815, 1.0134893245239103, 1.2007204400025842, 1.0796843085267878, 1.0061412179480962, 1.081671997988171, 1.0578804472096937, 1.1280056242722125, 1.069410482920408, 1.0425717298368462, 1.0782081647169166, 1.1268930121740401, 1.0519513716266846, 0.9736789880662522, 1.0614281628669777, 1.1099305306926301, 1.219735871361072, 1.059597233131669, 1.0308809757680832, 1.0859717775268722, 1.0957214701662334, 1.010669154741661, 1.0169204950257915], \"colorscale\": \"Viridis\", \"opacity\": 0.8, \"showscale\": true, \"size\": 24}, \"mode\": \"markers\", \"type\": \"scatter3d\", \"uid\": \"a21e60f3-0706-4d5e-8828-2c4774bb1cbf\", \"x\": [0.0, 0.0, 0.0, 0.0, 0.0, 0.0, 0.0, 0.0, 0.0, 1.0, 1.0, 1.0, 1.0, 1.0, 1.0, 1.0, 1.0, 1.0, 2.0, 2.0, 2.0, 2.0, 2.0, 2.0, 2.0, 2.0, 2.0], \"y\": [0.0, 0.0, 0.0, 1.0, 1.0, 1.0, 2.0, 2.0, 2.0, 0.0, 0.0, 0.0, 1.0, 1.0, 1.0, 2.0, 2.0, 2.0, 0.0, 0.0, 0.0, 1.0, 1.0, 1.0, 2.0, 2.0, 2.0], \"z\": [0.0, 1.0, 2.0, 0.0, 1.0, 2.0, 0.0, 1.0, 2.0, 0.0, 1.0, 2.0, 0.0, 1.0, 2.0, 0.0, 1.0, 2.0, 0.0, 1.0, 2.0, 0.0, 1.0, 2.0, 0.0, 1.0, 2.0]}],\n",
       "                        {\"height\": 800, \"scene\": {\"xaxis\": {\"nticks\": 3, \"ticktext\": [150, 300, 500], \"tickvals\": [0, 1, 2], \"title\": {\"text\": \"# Hidden Neurons\"}}, \"yaxis\": {\"nticks\": 3, \"ticktext\": [0.1, 0.25, 0.5], \"tickvals\": [0, 1, 2], \"title\": {\"text\": \"Dropout Rate\"}}, \"zaxis\": {\"nticks\": 3, \"ticktext\": [30, 60, 100], \"tickvals\": [0, 1, 2], \"title\": {\"text\": \"# Epochs\"}}}, \"title\": {\"text\": \"Validation Loss\"}, \"width\": 800},\n",
       "                        {\"showLink\": false, \"linkText\": \"Export to plot.ly\", \"plotlyServerURL\": \"https://plot.ly\"}\n",
       "                    )\n",
       "                };\n",
       "                });\n",
       "            </script>\n",
       "        </div>"
      ]
     },
     "metadata": {},
     "output_type": "display_data"
    }
   ],
   "source": [
    "# Using plotly's Scatter3d\n",
    "\n",
    "trace1 = go.Scatter3d(\n",
    "    x=heatmap_3d[:,0],\n",
    "    y=heatmap_3d[:,1],\n",
    "    z=heatmap_3d[:,2],\n",
    "    mode='markers',\n",
    "    marker=dict(\n",
    "        size=24,\n",
    "        color=heatmap_3d[:,3],                # set color to an array/list of desired values\n",
    "        colorscale='Viridis',   # choose a colorscale\n",
    "        opacity=0.8,\n",
    "        showscale=True\n",
    "    )\n",
    ")\n",
    "\n",
    "data = [trace1]\n",
    "layout = go.Layout(\n",
    "    title='Validation Loss',\n",
    "    width=800,\n",
    "    height=800,\n",
    "    scene = dict(\n",
    "    xaxis=dict(\n",
    "        ticktext=hidden_neurons,\n",
    "        tickvals=[0,1,2],\n",
    "        nticks=3,\n",
    "        title='# Hidden Neurons'\n",
    "    ),\n",
    "    yaxis=dict(\n",
    "        ticktext=dropouts,\n",
    "        tickvals=[0,1,2],\n",
    "        nticks=3,\n",
    "        title='Dropout Rate'\n",
    "    ),\n",
    "    zaxis=dict(\n",
    "        ticktext=epochs,\n",
    "        tickvals=[0,1,2],\n",
    "        nticks=3,\n",
    "        title='# Epochs'\n",
    "    )\n",
    "))\n",
    "\n",
    "fig = go.Figure(data=data, layout=layout)\n",
    "iplot(fig, filename='3d-scatter-colorscale')"
   ]
  },
  {
   "cell_type": "markdown",
   "metadata": {},
   "source": [
    "From the above plot, we compare between any of the 2 hyperparameter dimensions. All validation losses are referred to as K-fold validation losses. Let us explain some of the observations:\n",
    "\n",
    "**1) dropout vs hidden neurons (@ epochs = 30)**\n",
    "\n",
    "We observe that with increased learning capacity (hidden neurons = 500), increasing dropout rate actually reduces the validation loss. However, with lower learning capacity (hidden neurons = 150,300), increasing dropout actually harms the performance of the model by increasing the validation loss. This is expected, because with increasingly complex models, it is more likely to overfit, hence dropouts serve as regularisation parameters, which improves the model's ability to generalise. We also observe that for higher dropout rates (0.25,0.5), performance improves with increasing hidden neurons. If we try to apply more regularisation to models with lower learning capacity, we will observe higher bias and poorer performance.\n",
    "\n",
    "**2) Epochs vs hidden neurons (@ dropout = 0.1)**\n",
    "\n",
    "We observe that with more hidden neurons, performance is better with less training epochs. The lowest validation loss is at 100 epochs for a model with 150 hidden neurons, whereas the lowest validation loss is at 30 epochs for a model with 300 & 500 hidden neurons. With more neurons, we increase the complexity & expressiveness of the model, hence resulting in faster convergence. Any further training resulted in worsening performance (increased validation losses). Furthermore, due to the low dropout rate for this case, it is easy for the model to overfit.\n",
    "\n",
    "**3) Epochs vs dropout (@ hidden neurons = 500)**\n",
    "\n",
    "We see that for low dropout rates, we quickly converge and any further training hurts the performance. At increasing dropout rates, performance improved with more epochs, as more iterations are required for the model to converge. For a more complex model, regardless at any epoch counts, we observe that performance improves with increased dropout."
   ]
  },
  {
   "cell_type": "code",
   "execution_count": 16,
   "metadata": {},
   "outputs": [
    {
     "name": "stdout",
     "output_type": "stream",
     "text": [
      "The best combinaton belongs to (300, 0.5, 100), with a lowest val loss of 0.9736789880662522.\n"
     ]
    }
   ],
   "source": [
    "# Get best hyperparameter set based on val loss\n",
    "val_loss_best,best_hyper = min(val_loss_all.values()),min(val_loss_all,key=val_loss_all.get)\n",
    "print('The best combinaton belongs to {}, with a lowest val loss of {}.'.format(best_hyper,val_loss_best))"
   ]
  },
  {
   "cell_type": "markdown",
   "metadata": {},
   "source": [
    "## Retrain the best model\n",
    "From the previous step, we have determined that the best model has the hyperparameters:\n",
    "- Hidden Layer Neurons = 300\n",
    "- Dropout = 0.5\n",
    "- Epochs = 100\n",
    "\n",
    "Now we will retrain this permutation using all available training data and visualise the process."
   ]
  },
  {
   "cell_type": "code",
   "execution_count": 17,
   "metadata": {},
   "outputs": [
    {
     "name": "stdout",
     "output_type": "stream",
     "text": [
      "Train on 2438 samples, validate on 610 samples\n",
      "Epoch 1/100\n",
      "2438/2438 [==============================] - 6s 2ms/step - loss: 1.8150 - acc: 0.3687 - val_loss: 1.5965 - val_acc: 0.4852\n",
      "Epoch 2/100\n",
      "2438/2438 [==============================] - 1s 288us/step - loss: 1.5398 - acc: 0.4742 - val_loss: 1.4274 - val_acc: 0.5066\n",
      "Epoch 3/100\n",
      "2438/2438 [==============================] - 1s 255us/step - loss: 1.4219 - acc: 0.5012 - val_loss: 1.3582 - val_acc: 0.5279\n",
      "Epoch 4/100\n",
      "2438/2438 [==============================] - 1s 250us/step - loss: 1.3350 - acc: 0.5422 - val_loss: 1.2937 - val_acc: 0.5656\n",
      "Epoch 5/100\n",
      "2438/2438 [==============================] - 1s 240us/step - loss: 1.2725 - acc: 0.5595 - val_loss: 1.2539 - val_acc: 0.5672\n",
      "Epoch 6/100\n",
      "2438/2438 [==============================] - 1s 239us/step - loss: 1.2161 - acc: 0.5681 - val_loss: 1.2344 - val_acc: 0.5803\n",
      "Epoch 7/100\n",
      "2438/2438 [==============================] - 1s 238us/step - loss: 1.1789 - acc: 0.5796 - val_loss: 1.2132 - val_acc: 0.5738\n",
      "Epoch 8/100\n",
      "2438/2438 [==============================] - 1s 244us/step - loss: 1.1536 - acc: 0.5960 - val_loss: 1.1536 - val_acc: 0.5836\n",
      "Epoch 9/100\n",
      "2438/2438 [==============================] - 1s 243us/step - loss: 1.1154 - acc: 0.6231 - val_loss: 1.1326 - val_acc: 0.5918\n",
      "Epoch 10/100\n",
      "2438/2438 [==============================] - 1s 242us/step - loss: 1.0899 - acc: 0.6005 - val_loss: 1.1166 - val_acc: 0.5967\n",
      "Epoch 11/100\n",
      "2438/2438 [==============================] - 1s 245us/step - loss: 1.0735 - acc: 0.6132 - val_loss: 1.1091 - val_acc: 0.6164\n",
      "Epoch 12/100\n",
      "2438/2438 [==============================] - 1s 238us/step - loss: 1.0345 - acc: 0.6337 - val_loss: 1.0912 - val_acc: 0.6115\n",
      "Epoch 13/100\n",
      "2438/2438 [==============================] - 1s 238us/step - loss: 1.0181 - acc: 0.6386 - val_loss: 1.0787 - val_acc: 0.6180\n",
      "Epoch 14/100\n",
      "2438/2438 [==============================] - 1s 243us/step - loss: 1.0031 - acc: 0.6403 - val_loss: 1.0612 - val_acc: 0.6148\n",
      "Epoch 15/100\n",
      "2438/2438 [==============================] - 1s 243us/step - loss: 0.9816 - acc: 0.6563 - val_loss: 1.0469 - val_acc: 0.6410\n",
      "Epoch 16/100\n",
      "2438/2438 [==============================] - 1s 241us/step - loss: 0.9688 - acc: 0.6542 - val_loss: 1.0372 - val_acc: 0.6508\n",
      "Epoch 17/100\n",
      "2438/2438 [==============================] - 1s 243us/step - loss: 0.9524 - acc: 0.6596 - val_loss: 1.0111 - val_acc: 0.6459\n",
      "Epoch 18/100\n",
      "2438/2438 [==============================] - 1s 244us/step - loss: 0.9209 - acc: 0.6637 - val_loss: 1.0184 - val_acc: 0.6508\n",
      "Epoch 19/100\n",
      "2438/2438 [==============================] - 1s 286us/step - loss: 0.9083 - acc: 0.6678 - val_loss: 0.9729 - val_acc: 0.6639\n",
      "Epoch 20/100\n",
      "2438/2438 [==============================] - 1s 244us/step - loss: 0.9142 - acc: 0.6653 - val_loss: 1.0089 - val_acc: 0.6574\n",
      "Epoch 21/100\n",
      "2438/2438 [==============================] - 1s 277us/step - loss: 0.8590 - acc: 0.6973 - val_loss: 0.9941 - val_acc: 0.6754\n",
      "Epoch 22/100\n",
      "2438/2438 [==============================] - 1s 294us/step - loss: 0.8610 - acc: 0.6874 - val_loss: 0.9785 - val_acc: 0.6770\n",
      "Epoch 23/100\n",
      "2438/2438 [==============================] - 1s 253us/step - loss: 0.8348 - acc: 0.7022 - val_loss: 0.9924 - val_acc: 0.6557\n",
      "Epoch 24/100\n",
      "2438/2438 [==============================] - 1s 248us/step - loss: 0.8665 - acc: 0.6858 - val_loss: 0.9868 - val_acc: 0.6836\n",
      "Epoch 25/100\n",
      "2438/2438 [==============================] - 1s 265us/step - loss: 0.8220 - acc: 0.7067 - val_loss: 0.9830 - val_acc: 0.6721\n",
      "Epoch 26/100\n",
      "2438/2438 [==============================] - 1s 251us/step - loss: 0.8210 - acc: 0.7112 - val_loss: 0.9607 - val_acc: 0.6803\n",
      "Epoch 27/100\n",
      "2438/2438 [==============================] - 1s 258us/step - loss: 0.8217 - acc: 0.7043 - val_loss: 0.9777 - val_acc: 0.6852\n",
      "Epoch 28/100\n",
      "2438/2438 [==============================] - 1s 315us/step - loss: 0.7911 - acc: 0.7223 - val_loss: 0.9706 - val_acc: 0.6738\n",
      "Epoch 29/100\n",
      "2438/2438 [==============================] - 1s 305us/step - loss: 0.7747 - acc: 0.7174 - val_loss: 0.9576 - val_acc: 0.6934\n",
      "Epoch 30/100\n",
      "2438/2438 [==============================] - 1s 268us/step - loss: 0.7588 - acc: 0.7379 - val_loss: 0.9534 - val_acc: 0.6852\n",
      "Epoch 31/100\n",
      "2438/2438 [==============================] - 1s 270us/step - loss: 0.7452 - acc: 0.7326 - val_loss: 0.9440 - val_acc: 0.6836\n",
      "Epoch 32/100\n",
      "2438/2438 [==============================] - 1s 245us/step - loss: 0.7500 - acc: 0.7379 - val_loss: 0.9492 - val_acc: 0.6869\n",
      "Epoch 33/100\n",
      "2438/2438 [==============================] - 1s 229us/step - loss: 0.7525 - acc: 0.7379 - val_loss: 0.9297 - val_acc: 0.6967\n",
      "Epoch 34/100\n",
      "2438/2438 [==============================] - 1s 230us/step - loss: 0.7221 - acc: 0.7486 - val_loss: 0.9272 - val_acc: 0.7016\n",
      "Epoch 35/100\n",
      "2438/2438 [==============================] - 1s 290us/step - loss: 0.7310 - acc: 0.7461 - val_loss: 0.9158 - val_acc: 0.7066\n",
      "Epoch 36/100\n",
      "2438/2438 [==============================] - 1s 254us/step - loss: 0.7072 - acc: 0.7477 - val_loss: 0.9276 - val_acc: 0.6885\n",
      "Epoch 37/100\n",
      "2438/2438 [==============================] - 1s 234us/step - loss: 0.6937 - acc: 0.7445 - val_loss: 0.9002 - val_acc: 0.7164\n",
      "Epoch 38/100\n",
      "2438/2438 [==============================] - 1s 248us/step - loss: 0.6833 - acc: 0.7531 - val_loss: 0.8998 - val_acc: 0.6918\n",
      "Epoch 39/100\n",
      "2438/2438 [==============================] - 1s 232us/step - loss: 0.6725 - acc: 0.7707 - val_loss: 0.9266 - val_acc: 0.6967\n",
      "Epoch 40/100\n",
      "2438/2438 [==============================] - 1s 241us/step - loss: 0.6759 - acc: 0.7650 - val_loss: 0.9250 - val_acc: 0.6902\n",
      "Epoch 41/100\n",
      "2438/2438 [==============================] - 1s 232us/step - loss: 0.6867 - acc: 0.7633 - val_loss: 0.9382 - val_acc: 0.6934\n",
      "Epoch 42/100\n",
      "2438/2438 [==============================] - 1s 243us/step - loss: 0.6650 - acc: 0.7658 - val_loss: 0.9187 - val_acc: 0.7164\n",
      "Epoch 43/100\n",
      "2438/2438 [==============================] - 1s 238us/step - loss: 0.6711 - acc: 0.7629 - val_loss: 0.9503 - val_acc: 0.6934\n",
      "Epoch 44/100\n",
      "2438/2438 [==============================] - 1s 246us/step - loss: 0.6600 - acc: 0.7654 - val_loss: 0.9199 - val_acc: 0.7148\n",
      "Epoch 45/100\n",
      "2438/2438 [==============================] - 1s 233us/step - loss: 0.6481 - acc: 0.7760 - val_loss: 0.8933 - val_acc: 0.7164\n",
      "Epoch 46/100\n",
      "2438/2438 [==============================] - 1s 219us/step - loss: 0.6318 - acc: 0.7773 - val_loss: 0.9053 - val_acc: 0.7148\n",
      "Epoch 47/100\n",
      "2438/2438 [==============================] - 1s 231us/step - loss: 0.6346 - acc: 0.7719 - val_loss: 0.8926 - val_acc: 0.6934\n",
      "Epoch 48/100\n",
      "2438/2438 [==============================] - 1s 217us/step - loss: 0.6233 - acc: 0.7744 - val_loss: 0.9187 - val_acc: 0.6967\n",
      "Epoch 49/100\n",
      "2438/2438 [==============================] - 1s 238us/step - loss: 0.6190 - acc: 0.7884 - val_loss: 0.9292 - val_acc: 0.7148\n",
      "Epoch 50/100\n",
      "2438/2438 [==============================] - 1s 217us/step - loss: 0.6398 - acc: 0.7642 - val_loss: 0.9035 - val_acc: 0.7180\n",
      "Epoch 51/100\n",
      "2438/2438 [==============================] - 1s 228us/step - loss: 0.6069 - acc: 0.7851 - val_loss: 0.9122 - val_acc: 0.7082\n",
      "Epoch 52/100\n",
      "2438/2438 [==============================] - 1s 248us/step - loss: 0.5936 - acc: 0.7884 - val_loss: 0.9065 - val_acc: 0.7049\n",
      "Epoch 53/100\n",
      "2438/2438 [==============================] - 1s 241us/step - loss: 0.5813 - acc: 0.7933 - val_loss: 0.8956 - val_acc: 0.7180\n",
      "Epoch 54/100\n",
      "2438/2438 [==============================] - 1s 271us/step - loss: 0.5815 - acc: 0.7925 - val_loss: 0.9403 - val_acc: 0.6902\n",
      "Epoch 55/100\n",
      "2438/2438 [==============================] - 1s 301us/step - loss: 0.6058 - acc: 0.7900 - val_loss: 0.9162 - val_acc: 0.7115\n",
      "Epoch 56/100\n",
      "2438/2438 [==============================] - 1s 275us/step - loss: 0.5860 - acc: 0.7937 - val_loss: 0.8967 - val_acc: 0.7115\n",
      "Epoch 57/100\n",
      "2438/2438 [==============================] - 1s 247us/step - loss: 0.5665 - acc: 0.8064 - val_loss: 0.9049 - val_acc: 0.7148\n",
      "Epoch 58/100\n",
      "2438/2438 [==============================] - 1s 288us/step - loss: 0.5666 - acc: 0.7933 - val_loss: 0.8975 - val_acc: 0.7164\n",
      "Epoch 59/100\n",
      "2438/2438 [==============================] - 1s 300us/step - loss: 0.5616 - acc: 0.8019 - val_loss: 0.9205 - val_acc: 0.7066\n",
      "Epoch 60/100\n",
      "2438/2438 [==============================] - 1s 267us/step - loss: 0.5555 - acc: 0.8080 - val_loss: 0.9013 - val_acc: 0.7279\n",
      "Epoch 61/100\n",
      "2438/2438 [==============================] - 1s 241us/step - loss: 0.5667 - acc: 0.8015 - val_loss: 0.9021 - val_acc: 0.7279\n",
      "Epoch 62/100\n",
      "2438/2438 [==============================] - 1s 248us/step - loss: 0.5470 - acc: 0.8052 - val_loss: 0.8755 - val_acc: 0.7262\n",
      "Epoch 63/100\n",
      "2438/2438 [==============================] - 1s 240us/step - loss: 0.5269 - acc: 0.8158 - val_loss: 0.9052 - val_acc: 0.7148\n",
      "Epoch 64/100\n",
      "2438/2438 [==============================] - 1s 246us/step - loss: 0.5476 - acc: 0.8027 - val_loss: 0.9086 - val_acc: 0.7262\n",
      "Epoch 65/100\n",
      "2438/2438 [==============================] - 1s 252us/step - loss: 0.5606 - acc: 0.8068 - val_loss: 0.9506 - val_acc: 0.7115\n",
      "Epoch 66/100\n",
      "2438/2438 [==============================] - 1s 235us/step - loss: 0.5061 - acc: 0.8249 - val_loss: 0.9001 - val_acc: 0.7180\n",
      "Epoch 67/100\n",
      "2438/2438 [==============================] - 1s 236us/step - loss: 0.5113 - acc: 0.8064 - val_loss: 0.9253 - val_acc: 0.7180\n",
      "Epoch 68/100\n",
      "2438/2438 [==============================] - 1s 245us/step - loss: 0.4986 - acc: 0.8138 - val_loss: 0.9368 - val_acc: 0.7066\n",
      "Epoch 69/100\n",
      "2438/2438 [==============================] - 1s 230us/step - loss: 0.5424 - acc: 0.8035 - val_loss: 0.9078 - val_acc: 0.7131\n",
      "Epoch 70/100\n",
      "2438/2438 [==============================] - 1s 225us/step - loss: 0.4945 - acc: 0.8224 - val_loss: 0.8915 - val_acc: 0.7295\n",
      "Epoch 71/100\n",
      "2438/2438 [==============================] - 1s 216us/step - loss: 0.4907 - acc: 0.8232 - val_loss: 0.8993 - val_acc: 0.7246\n",
      "Epoch 72/100\n",
      "2438/2438 [==============================] - 1s 218us/step - loss: 0.5165 - acc: 0.8142 - val_loss: 0.9272 - val_acc: 0.7033\n",
      "Epoch 73/100\n",
      "2438/2438 [==============================] - 1s 218us/step - loss: 0.4844 - acc: 0.8253 - val_loss: 0.9024 - val_acc: 0.7197\n",
      "Epoch 74/100\n",
      "2438/2438 [==============================] - 1s 240us/step - loss: 0.4853 - acc: 0.8355 - val_loss: 0.9020 - val_acc: 0.7295\n",
      "Epoch 75/100\n",
      "2438/2438 [==============================] - 1s 243us/step - loss: 0.4900 - acc: 0.8322 - val_loss: 0.9142 - val_acc: 0.7246\n",
      "Epoch 76/100\n",
      "2438/2438 [==============================] - 1s 293us/step - loss: 0.4926 - acc: 0.8273 - val_loss: 0.9248 - val_acc: 0.7377\n",
      "Epoch 77/100\n",
      "2438/2438 [==============================] - 1s 270us/step - loss: 0.5085 - acc: 0.8191 - val_loss: 0.8999 - val_acc: 0.7197\n",
      "Epoch 78/100\n",
      "2438/2438 [==============================] - 1s 260us/step - loss: 0.4875 - acc: 0.8236 - val_loss: 0.8845 - val_acc: 0.7295\n",
      "Epoch 79/100\n",
      "2438/2438 [==============================] - 1s 303us/step - loss: 0.4688 - acc: 0.8310 - val_loss: 0.9040 - val_acc: 0.7328\n",
      "Epoch 80/100\n",
      "2438/2438 [==============================] - 1s 252us/step - loss: 0.4843 - acc: 0.8244 - val_loss: 0.9170 - val_acc: 0.7246\n",
      "Epoch 81/100\n",
      "2438/2438 [==============================] - 1s 235us/step - loss: 0.4360 - acc: 0.8478 - val_loss: 0.9128 - val_acc: 0.7213\n",
      "Epoch 82/100\n",
      "2438/2438 [==============================] - 1s 233us/step - loss: 0.4391 - acc: 0.8532 - val_loss: 0.9319 - val_acc: 0.7344\n",
      "Epoch 83/100\n",
      "2438/2438 [==============================] - 1s 221us/step - loss: 0.4256 - acc: 0.8486 - val_loss: 0.8652 - val_acc: 0.7492\n",
      "Epoch 84/100\n",
      "2438/2438 [==============================] - 1s 223us/step - loss: 0.4312 - acc: 0.8462 - val_loss: 0.9163 - val_acc: 0.7361\n",
      "Epoch 85/100\n",
      "2438/2438 [==============================] - 1s 226us/step - loss: 0.4257 - acc: 0.8568 - val_loss: 0.9274 - val_acc: 0.7393\n",
      "Epoch 86/100\n",
      "2438/2438 [==============================] - 1s 221us/step - loss: 0.4480 - acc: 0.8429 - val_loss: 0.8841 - val_acc: 0.7459\n",
      "Epoch 87/100\n",
      "2438/2438 [==============================] - 1s 228us/step - loss: 0.4480 - acc: 0.8331 - val_loss: 0.8741 - val_acc: 0.7459\n",
      "Epoch 88/100\n",
      "2438/2438 [==============================] - 1s 214us/step - loss: 0.4174 - acc: 0.8573 - val_loss: 0.9021 - val_acc: 0.7344\n",
      "Epoch 89/100\n",
      "2438/2438 [==============================] - 1s 226us/step - loss: 0.4343 - acc: 0.8470 - val_loss: 0.9059 - val_acc: 0.7295\n",
      "Epoch 90/100\n",
      "2438/2438 [==============================] - 1s 223us/step - loss: 0.4277 - acc: 0.8527 - val_loss: 0.9190 - val_acc: 0.7311\n",
      "Epoch 91/100\n",
      "2438/2438 [==============================] - 1s 228us/step - loss: 0.4260 - acc: 0.8400 - val_loss: 0.9119 - val_acc: 0.7344\n",
      "Epoch 92/100\n",
      "2438/2438 [==============================] - 1s 227us/step - loss: 0.4303 - acc: 0.8499 - val_loss: 0.8896 - val_acc: 0.7295\n",
      "Epoch 93/100\n",
      "2438/2438 [==============================] - 1s 226us/step - loss: 0.4164 - acc: 0.8499 - val_loss: 0.8893 - val_acc: 0.7410\n",
      "Epoch 94/100\n",
      "2438/2438 [==============================] - 1s 236us/step - loss: 0.4357 - acc: 0.8519 - val_loss: 0.9123 - val_acc: 0.7410\n",
      "Epoch 95/100\n",
      "2438/2438 [==============================] - 1s 217us/step - loss: 0.4175 - acc: 0.8503 - val_loss: 0.9475 - val_acc: 0.7525\n",
      "Epoch 96/100\n",
      "2438/2438 [==============================] - 1s 220us/step - loss: 0.4088 - acc: 0.8556 - val_loss: 0.9218 - val_acc: 0.7557\n",
      "Epoch 97/100\n",
      "2438/2438 [==============================] - 1s 224us/step - loss: 0.4214 - acc: 0.8540 - val_loss: 0.9143 - val_acc: 0.7475\n",
      "Epoch 98/100\n",
      "2438/2438 [==============================] - 1s 226us/step - loss: 0.4058 - acc: 0.8651 - val_loss: 0.8951 - val_acc: 0.7393\n",
      "Epoch 99/100\n",
      "2438/2438 [==============================] - 1s 223us/step - loss: 0.4208 - acc: 0.8433 - val_loss: 0.9491 - val_acc: 0.7410\n",
      "Epoch 100/100\n",
      "2438/2438 [==============================] - 1s 220us/step - loss: 0.4325 - acc: 0.8482 - val_loss: 0.9470 - val_acc: 0.7475\n"
     ]
    },
    {
     "data": {
      "text/plain": [
       "<matplotlib.legend.Legend at 0x1b01e3f5208>"
      ]
     },
     "execution_count": 17,
     "metadata": {},
     "output_type": "execute_result"
    },
    {
     "data": {
      "image/png": "[encoded data removed]",
      "text/plain": [
       "<Figure size 432x288 with 1 Axes>"
      ]
     },
     "metadata": {
      "needs_background": "light"
     },
     "output_type": "display_data"
    }
   ],
   "source": [
    "#define hyperparams set\n",
    "best_hyperparams = {}\n",
    "best_hyperparams['hidden_layer'] = best_hyper[0]\n",
    "best_hyperparams['dropout'] = best_hyper[1]\n",
    "best_hyperparams['epoch'] = best_hyper[2]\n",
    "\n",
    "model = create_model(best_hyperparams)\n",
    "history = model.fit(X_train, y_train, validation_split=0.2, epochs=best_hyperparams['epoch'],verbose=1)\n",
    "    \n",
    "# plot loss history\n",
    "hist = history.history\n",
    "val_loss = hist['val_loss']\n",
    "loss = hist['loss']\n",
    "plt.figure()\n",
    "plt.plot(val_loss)\n",
    "plt.plot(loss)\n",
    "plt.legend(['val loss','loss'])"
   ]
  },
  {
   "cell_type": "code",
   "execution_count": 18,
   "metadata": {},
   "outputs": [
    {
     "name": "stdout",
     "output_type": "stream",
     "text": [
      "762/762 [==============================] - 0s 137us/step\n",
      "\n",
      "acc: 74.80%\n"
     ]
    }
   ],
   "source": [
    "# evaluate the model\n",
    "scores = model.evaluate(X_test, y_test)\n",
    "print(\"\\n%s: %.2f%%\" % (model.metrics_names[1], scores[1]*100))"
   ]
  },
  {
   "cell_type": "markdown",
   "metadata": {},
   "source": [
    "## Analysis of Results\n",
    "From the above loss plot, we see that training loss is decreasing. However, validation loss appears to plateau at about 50 epochs. Despite training for more epochs, the model does not show signs of overfitting yet. **Both the validation and test accuracy showed good accuracies of 75%**."
   ]
  },
  {
   "cell_type": "markdown",
   "metadata": {},
   "source": [
    "## Kaggle submission"
   ]
  },
  {
   "cell_type": "code",
   "execution_count": 19,
   "metadata": {},
   "outputs": [],
   "source": [
    "X_test = np.loadtxt('./data/feature_extraction_kaggle.csv',delimiter=',')\n",
    "m_test = X_test.shape[0]\n",
    "zscore_test = StandardScaler()\n",
    "X_test = zscore.fit_transform(X_test) #scales each feature column\n",
    "predictions = np.argmax(model.predict(X_test),axis=1)\n",
    "idx = np.arange(m_test)\n",
    "predictions_str = encoder.inverse_transform(predictions)\n",
    "\n",
    "df_test = {'series_id':idx,\n",
    "           'surface':predictions_str\n",
    "          }\n",
    "df_test = pd.DataFrame(df_test)\n",
    "df_test.to_csv('./kaggle/kaggle.csv',index=False)"
   ]
  },
  {
   "cell_type": "markdown",
   "metadata": {},
   "source": []
  },
  {
   "cell_type": "markdown",
   "metadata": {},
   "source": [
    "# Long Short-Term-Memory\n",
    "Long short-term memory (LSTM) is an artificial recurrent neural network, (RNN) architecture used in the field of deep learning. Unlike standard feedforward neural networks, LSTM has feedback connections to itself. It differs from the Vanilla RNN by incorporating input, forget and output gates.\n",
    "\n",
    "<img src='./img/LSTM.png' height=300 width=500></img>\n",
    "\n",
    "**References**\n",
    "- Hochreiter, Sepp & Schmidhuber, Jürgen. (1997). Long Short-term Memory. Neural computation. 9. 1735-80. 10.1162/neco.1997.9.8.1735. "
   ]
  },
  {
   "cell_type": "code",
   "execution_count": 3,
   "metadata": {},
   "outputs": [
    {
     "name": "stdout",
     "output_type": "stream",
     "text": [
      "X shape: (3810, 128, 9)\n"
     ]
    }
   ],
   "source": [
    "# import time-series data\n",
    "X = read_pickle('./data/time-series.pickle')\n",
    "print('X shape:',X.shape)"
   ]
  },
  {
   "cell_type": "markdown",
   "metadata": {},
   "source": [
    "As we want to preserve the scale and absolute value of our quantities, we do not normalise or rescale them. This preserves physical interpretation of the feature."
   ]
  },
  {
   "cell_type": "code",
   "execution_count": null,
   "metadata": {},
   "outputs": [],
   "source": [
    "def create_model(hyperparams):\n",
    "    # Create shallow NN model\n",
    "    input_dim = X.shape[1]\n",
    "    output_dim = len(encoder.classes_) # number of classes \n",
    "    hidden_dim_1 = hyperparams['hidden_layer']\n",
    "    layers = hyperparams['layer']\n",
    "\n",
    "    model = Sequential()\n",
    "    model.add(LSTM(hidden_dim_1, input_dim=input_dim, activation='relu'))\n",
    "    model.add(Dropout(hyperparams['dropout']))\n",
    "    model.add(Dense(hidden_dim_2, activation='relu'))\n",
    "    model.add(Dense(output_dim, activation='softmax'))\n",
    "\n",
    "#     model.summary()\n",
    "    model.compile(loss='sparse_categorical_crossentropy', optimizer='adam', metrics=['accuracy'])\n",
    "    \n",
    "    return model"
   ]
  },
  {
   "cell_type": "code",
   "execution_count": null,
   "metadata": {},
   "outputs": [],
   "source": []
  },
  {
   "cell_type": "code",
   "execution_count": null,
   "metadata": {},
   "outputs": [],
   "source": []
  },
  {
   "cell_type": "code",
   "execution_count": null,
   "metadata": {},
   "outputs": [],
   "source": []
  }
 ],
 "metadata": {
  "kernelspec": {
   "display_name": "Python 3",
   "language": "python",
   "name": "python3"
  },
  "language_info": {
   "codemirror_mode": {
    "name": "ipython",
    "version": 3
   },
   "file_extension": ".py",
   "mimetype": "text/x-python",
   "name": "python",
   "nbconvert_exporter": "python",
   "pygments_lexer": "ipython3",
   "version": "3.6.3rc1"
  }
 },
 "nbformat": 4,
 "nbformat_minor": 2
}
